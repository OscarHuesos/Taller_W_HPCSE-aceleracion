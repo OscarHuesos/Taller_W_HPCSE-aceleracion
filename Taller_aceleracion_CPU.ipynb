{
  "cells": [
    {
      "cell_type": "markdown",
      "source": [
        "#Bienvenidos al taller:\n",
        "# Aceleración de procesos\n",
        "# en CPU/GPU\n",
        "#Mini Workshop on High Performance Computing in Science and Engineering\n",
        "\n",
        "\n",
        "\n",
        "\n",
        "\n",
        "\n",
        "\n",
        "\n",
        "\n",
        "\n",
        "\n",
        "Noviembre 2022."
      ],
      "metadata": {
        "id": "3OAfGIeVd7He"
      }
    },
    {
      "cell_type": "markdown",
      "source": [
        "# Qué veremos\n",
        "\n",
        "En este taller, se abordará una manera (entre varias disponibles) de vectorización en CPU. Particularmente de abordará una introducción a los procesos SIMD, cuyo principio de funcionamiento y codificación se ilustrará con algunos ejemplos."
      ],
      "metadata": {
        "id": "yK2bW_mXNWEw"
      }
    },
    {
      "cell_type": "markdown",
      "source": [
        "#Introducción\n",
        "\n",
        "Procesos escalares vs vectoriales:\n",
        "\n",
        "En este caso, los procesos escalares son aquellos que sólo pueden operar un elemento o dato a la vez.\n",
        "\n",
        "Los procesos vectoriales, por el contrario, implementan un conjunto de instrucciones que operan en arreglos de datos, y permiten ejecutar la misma operación en multiples elementos al mismo tiempo. Este último se considera una forma de paralelismo (no concurrente) en CPU [2].\n",
        "\n",
        "Una forma en que se puede paralelizar código en el esquema vectorial es mediante la estrategia SIMD (Single Instruction Multiple Data, por sus siglas en inglés)[1].\n",
        "\n",
        "#Diferencia entre GPU vs CPU:\n",
        "\n",
        "<img src=\"https://github.com/OscarHuesos/Taller_W_HPCSE-aceleracion/blob/main/renomb.jpg?raw=true:, width=800\" alt=\"simd\" width=600>\n",
        "\n",
        "Figura 1. Generalidades entre procesos en CPU y GPU, donde en éste último se caracteriza por ejecutar procesos SIMT (Single Instructions Multiple Threads, por sus siglas en inglés).\n"
      ],
      "metadata": {
        "id": "e0N1Vv7DiXh1"
      }
    },
    {
      "cell_type": "markdown",
      "source": [
        "# Introducción a SIMD\n",
        "\n",
        "Esta basado en la idea de aplicar el mismo conjunto de instrucciones a un conjunto de elementos o datos, en contraste con los procesos escalares, como se muestra en la Figura 1:\n"
      ],
      "metadata": {
        "id": "LIveRxEwynXl"
      }
    },
    {
      "cell_type": "markdown",
      "source": [
        "\n",
        "\n",
        "<img src=\"https://github.com/OscarHuesos/Taller_W_HPCSE-aceleracion/blob/main/simd.png?raw=true:, width=600\" alt=\"simd\" width=600>\n",
        "\n",
        "Figura 2: Comparación entre un proceso escalar vs un proceso SIMD. Las instrucciones (algoritmos) son el mismo para cada caso, sin embargo, dado las arquitecturas de los CPUs, es posible en el segundo caso repetir esta instrucción sobre varios conjuntos de datos al mismo tiempo. Esto dependerá del conjunto de instrucciones y la configuración de operaciones vectoriales que se tenga disponible (figura tomada de [3]).\n",
        "\n",
        "\n",
        "<img src=\"https://github.com/OscarHuesos/Taller_W_HPCSE-aceleracion/blob/main/simd_proces.png?raw=true:, width=400\" alt=\"simdpross\" width=400>\n",
        "\n",
        "\n",
        "Figura 3: Proceso general SIMD.\n"
      ],
      "metadata": {
        "id": "N_BvQAR3sH0P"
      }
    },
    {
      "cell_type": "markdown",
      "source": [
        "Algunos conjuntos de instrucciones comunes en procesadores actuales son SSE(X) (Streaming SIMD Extensions) y  AVX(N) (Advanced Vector Extensions, por sus siglas en inglés) , con diferentes configuraciones.\n",
        "\n",
        "\n"
      ],
      "metadata": {
        "id": "qehjeu9dxrjK"
      }
    },
    {
      "cell_type": "markdown",
      "source": [
        "**Notas importantes del Notebook:**\n",
        "\n",
        "Dado de que Google Colab es un entorno diseñado para Python, el cuaderno de este taller estará sujeto a los recursos disponibles que ofrece, sin tener el  rendimiento más óptimo. Las instrucciones mostradas estarán diseñadas para copilar en gcc con ayuda de las herramientas de cmake. Debido a esto, se presentarán un par de pasos extra, además de usar archivos auxiliares que se descargarán más adelante.\n",
        "\n",
        "Recordar, que C/C++ son lenguajes copilados, es decir, el paso de la copilación genera el código a lenguaje de máquina, que a su vez origina un archivo ejecutable (cada ejemplo mostrado generará su propio archivo).\n",
        "\n",
        "\n"
      ],
      "metadata": {
        "id": "DEI0k32f7o71"
      }
    },
    {
      "cell_type": "markdown",
      "source": [
        "\n",
        "**Primera parte: Recuperación e instalación de paquetes y archivos**\n",
        "\n",
        "Vamos a instalar las dependencias esenciales para poder copilar el proyecto:\n",
        "\n",
        ""
      ],
      "metadata": {
        "id": "gu7Wvk81CJ4d"
      }
    },
    {
      "cell_type": "code",
      "execution_count": null,
      "metadata": {
        "id": "Ckd3AJxU0gaA",
        "colab": {
          "base_uri": "https://localhost:8080/"
        },
        "outputId": "5cb75cad-172e-47fd-bcaf-76e7fe1c7bb9"
      },
      "outputs": [
        {
          "output_type": "stream",
          "name": "stdout",
          "text": [
            "\r0% [Working]\r            \rGet:1 https://cloud.r-project.org/bin/linux/ubuntu bionic-cran40/ InRelease [3,626 B]\n",
            "\r0% [Connecting to archive.ubuntu.com] [Connecting to security.ubuntu.com] [1 In\r0% [Connecting to archive.ubuntu.com] [Connecting to security.ubuntu.com] [Conn\r0% [1 InRelease gpgv 3,626 B] [Connecting to archive.ubuntu.com] [Connecting to\r                                                                               \rHit:2 http://archive.ubuntu.com/ubuntu bionic InRelease\n",
            "Get:3 http://archive.ubuntu.com/ubuntu bionic-updates InRelease [88.7 kB]\n",
            "Get:4 http://archive.ubuntu.com/ubuntu bionic-backports InRelease [83.3 kB]\n",
            "Hit:5 http://ppa.launchpad.net/c2d4u.team/c2d4u4.0+/ubuntu bionic InRelease\n",
            "Ign:6 https://developer.download.nvidia.com/compute/machine-learning/repos/ubuntu1804/x86_64  InRelease\n",
            "Get:7 https://developer.download.nvidia.com/compute/cuda/repos/ubuntu1804/x86_64  InRelease [1,581 B]\n",
            "Get:8 http://security.ubuntu.com/ubuntu bionic-security InRelease [88.7 kB]\n",
            "Hit:9 https://developer.download.nvidia.com/compute/machine-learning/repos/ubuntu1804/x86_64  Release\n",
            "Hit:10 http://ppa.launchpad.net/cran/libgit2/ubuntu bionic InRelease\n",
            "Hit:11 http://ppa.launchpad.net/deadsnakes/ppa/ubuntu bionic InRelease\n",
            "Hit:12 http://ppa.launchpad.net/graphics-drivers/ppa/ubuntu bionic InRelease\n",
            "Get:13 http://archive.ubuntu.com/ubuntu bionic-updates/main amd64 Packages [3,493 kB]\n",
            "Get:14 http://archive.ubuntu.com/ubuntu bionic-updates/universe amd64 Packages [2,338 kB]\n",
            "Get:15 https://developer.download.nvidia.com/compute/cuda/repos/ubuntu1804/x86_64  Packages [1,038 kB]\n",
            "Get:17 http://security.ubuntu.com/ubuntu bionic-security/main amd64 Packages [3,067 kB]\n",
            "Get:18 http://security.ubuntu.com/ubuntu bionic-security/universe amd64 Packages [1,561 kB]\n",
            "Fetched 11.8 MB in 4s (2,674 kB/s)\n",
            "Reading package lists... Done\n",
            "Reading package lists... Done\n",
            "Building dependency tree       \n",
            "Reading state information... Done\n",
            "cmake is already the newest version (3.10.2-1ubuntu2.18.04.2).\n",
            "The following package was automatically installed and is no longer required:\n",
            "  libnvidia-common-460\n",
            "Use 'apt autoremove' to remove it.\n",
            "0 upgraded, 0 newly installed, 0 to remove and 7 not upgraded.\n",
            "Looking in indexes: https://pypi.org/simple, https://us-python.pkg.dev/colab-wheels/public/simple/\n",
            "Requirement already satisfied: dlib in /usr/local/lib/python3.7/dist-packages (19.24.0)\n",
            "Reading package lists... Done\n",
            "Building dependency tree       \n",
            "Reading state information... Done\n",
            "libxext-dev is already the newest version (2:1.3.3-1).\n",
            "libxext-dev set to manually installed.\n",
            "libxft-dev is already the newest version (2.3.2-1).\n",
            "binutils is already the newest version (2.30-21ubuntu1~18.04.7).\n",
            "binutils set to manually installed.\n",
            "dpkg-dev is already the newest version (1.19.0.5ubuntu2.4).\n",
            "dpkg-dev set to manually installed.\n",
            "git is already the newest version (1:2.17.1-1ubuntu0.13).\n",
            "libx11-dev is already the newest version (2:1.6.4-3ubuntu0.4).\n",
            "libx11-dev set to manually installed.\n",
            "The following package was automatically installed and is no longer required:\n",
            "  libnvidia-common-460\n",
            "Use 'apt autoremove' to remove it.\n",
            "The following NEW packages will be installed:\n",
            "  libxpm-dev\n",
            "0 upgraded, 1 newly installed, 0 to remove and 7 not upgraded.\n",
            "Need to get 87.4 kB of archives.\n",
            "After this operation, 216 kB of additional disk space will be used.\n",
            "Get:1 http://archive.ubuntu.com/ubuntu bionic/main amd64 libxpm-dev amd64 1:3.5.12-1 [87.4 kB]\n",
            "Fetched 87.4 kB in 0s (1,241 kB/s)\n",
            "Selecting previously unselected package libxpm-dev:amd64.\n",
            "(Reading database ... 123991 files and directories currently installed.)\n",
            "Preparing to unpack .../libxpm-dev_1%3a3.5.12-1_amd64.deb ...\n",
            "Unpacking libxpm-dev:amd64 (1:3.5.12-1) ...\n",
            "Setting up libxpm-dev:amd64 (1:3.5.12-1) ...\n",
            "Reading package lists... Done\n",
            "Building dependency tree       \n",
            "Reading state information... Done\n",
            "gfortran is already the newest version (4:7.4.0-1ubuntu2.3).\n",
            "git is already the newest version (1:2.17.1-1ubuntu0.13).\n",
            "tar is already the newest version (1.29b-2ubuntu0.3).\n",
            "The following package was automatically installed and is no longer required:\n",
            "  libnvidia-common-460\n",
            "Use 'apt autoremove' to remove it.\n",
            "The following additional packages will be installed:\n",
            "  libapr1 libaprutil1 libserf-1-1 libsvn1\n",
            "Suggested packages:\n",
            "  db5.3-util libapache2-mod-svn subversion-tools\n",
            "The following NEW packages will be installed:\n",
            "  libapr1 libaprutil1 libserf-1-1 libsvn1 subversion\n",
            "0 upgraded, 5 newly installed, 0 to remove and 7 not upgraded.\n",
            "Need to get 2,235 kB of archives.\n",
            "After this operation, 9,916 kB of additional disk space will be used.\n",
            "Get:1 http://archive.ubuntu.com/ubuntu bionic/main amd64 libapr1 amd64 1.6.3-2 [90.9 kB]\n",
            "Get:2 http://archive.ubuntu.com/ubuntu bionic/main amd64 libaprutil1 amd64 1.6.1-2 [84.4 kB]\n",
            "Get:3 http://archive.ubuntu.com/ubuntu bionic/universe amd64 libserf-1-1 amd64 1.3.9-6 [44.4 kB]\n",
            "Get:4 http://archive.ubuntu.com/ubuntu bionic-updates/universe amd64 libsvn1 amd64 1.9.7-4ubuntu1.1 [1,181 kB]\n",
            "Get:5 http://archive.ubuntu.com/ubuntu bionic-updates/universe amd64 subversion amd64 1.9.7-4ubuntu1.1 [834 kB]\n",
            "Fetched 2,235 kB in 0s (13.8 MB/s)\n",
            "Selecting previously unselected package libapr1:amd64.\n",
            "(Reading database ... 124000 files and directories currently installed.)\n",
            "Preparing to unpack .../libapr1_1.6.3-2_amd64.deb ...\n",
            "Unpacking libapr1:amd64 (1.6.3-2) ...\n",
            "Selecting previously unselected package libaprutil1:amd64.\n",
            "Preparing to unpack .../libaprutil1_1.6.1-2_amd64.deb ...\n",
            "Unpacking libaprutil1:amd64 (1.6.1-2) ...\n",
            "Selecting previously unselected package libserf-1-1:amd64.\n",
            "Preparing to unpack .../libserf-1-1_1.3.9-6_amd64.deb ...\n",
            "Unpacking libserf-1-1:amd64 (1.3.9-6) ...\n",
            "Selecting previously unselected package libsvn1:amd64.\n",
            "Preparing to unpack .../libsvn1_1.9.7-4ubuntu1.1_amd64.deb ...\n",
            "Unpacking libsvn1:amd64 (1.9.7-4ubuntu1.1) ...\n",
            "Selecting previously unselected package subversion.\n",
            "Preparing to unpack .../subversion_1.9.7-4ubuntu1.1_amd64.deb ...\n",
            "Unpacking subversion (1.9.7-4ubuntu1.1) ...\n",
            "Setting up libapr1:amd64 (1.6.3-2) ...\n",
            "Setting up libaprutil1:amd64 (1.6.1-2) ...\n",
            "Setting up libserf-1-1:amd64 (1.3.9-6) ...\n",
            "Setting up libsvn1:amd64 (1.9.7-4ubuntu1.1) ...\n",
            "Setting up subversion (1.9.7-4ubuntu1.1) ...\n",
            "Processing triggers for libc-bin (2.27-3ubuntu1.6) ...\n",
            "Processing triggers for man-db (2.8.3-2ubuntu0.1) ...\n"
          ]
        }
      ],
      "source": [
        "!apt-get update\n",
        "!apt install -y cmake\n",
        "!pip install dlib\n",
        "\n",
        "!apt-get install git dpkg-dev binutils libx11-dev libxpm-dev libxft-dev libxext-dev\n",
        "!apt-get install git tar gfortran subversion"
      ]
    },
    {
      "cell_type": "markdown",
      "source": [
        "Dependiendo del CPU en el que nos encontremos (tipo de procesador, arquitectura, etc) podemos saber que conjunto de instrucciones SIMD soporta mediante el siguiente comando:"
      ],
      "metadata": {
        "id": "GUWQhefv7eKp"
      }
    },
    {
      "cell_type": "code",
      "source": [
        " %%bash\n",
        " gcc -mavx2 -dM -E - < /dev/null | egrep \"SSE|AVX\" | sort"
      ],
      "metadata": {
        "colab": {
          "base_uri": "https://localhost:8080/"
        },
        "id": "LNm_UoFoQ3My",
        "outputId": "6d432e74-f3b2-43c2-a482-726b48df6dc1"
      },
      "execution_count": null,
      "outputs": [
        {
          "output_type": "stream",
          "name": "stdout",
          "text": [
            "#define __AVX__ 1\n",
            "#define __AVX2__ 1\n",
            "#define __SSE__ 1\n",
            "#define __SSE2__ 1\n",
            "#define __SSE2_MATH__ 1\n",
            "#define __SSE3__ 1\n",
            "#define __SSE4_1__ 1\n",
            "#define __SSE4_2__ 1\n",
            "#define __SSE_MATH__ 1\n",
            "#define __SSSE3__ 1\n"
          ]
        }
      ]
    },
    {
      "cell_type": "markdown",
      "source": [
        "En este caso, buscamos el conjunto de instrucciones AVX y SSE que soporta el CPU donde estamos corriendo Colab.\n",
        "\n",
        "\n",
        "<img src=\"https://github.com/OscarHuesos/Taller_W_HPCSE-aceleracion/blob/main/simd-register.png?raw=true:, width=600\" alt=\"simd\" width=600>\n",
        "\n",
        "Figura 4. Tipo de registro de vector común en CPU.\n",
        "\n",
        "Como caso base, se suele utilizar un conjunto de instrucciones que opera con un tamaño de vector de 4 posiciones (se usará esta configuración en éste taller), ya sea entero int, flotante float o de doble precisión double (esto se puede cambiar dependiendo de las necesidades).\n",
        "\n",
        "**Nota:** \"%%bash\" indica que se ejecutará una instrucción tipo shell-script (más común en entornos basados en Linux)."
      ],
      "metadata": {
        "id": "kmJN9F84rvL4"
      }
    },
    {
      "cell_type": "markdown",
      "source": [
        "#Introducción a Vc y VecCore\n",
        "\n",
        "Dentro de distintas librerias en código C/C++ que permiten trabajar con SIMD, usaremos Vc-devel [2] y Veccore [1]. Éstas librerias facilitan la codificación vectorizada, ya que son una capa de abstracción para C++. Además, proveen una API (Application Programming Interface, por sus siglas en inglés), independiente de la arquitectura del procesador y de la mayoría del conjunto de instrucciones disponibles, que permite realizar operaciones vectoriales (Portabilidad) [1,3]. Vc funciona como soporte entre el código escrito en C++ y la aplicación vectorizada (Backend), así como la aplicación en formato escalar."
      ],
      "metadata": {
        "id": "OqReokLJ37_N"
      }
    },
    {
      "cell_type": "markdown",
      "source": [
        "Recuperamos de GitHub y extraemos entonces los archivos para la libreria de Vc:"
      ],
      "metadata": {
        "id": "eOVhkuz2NSIz"
      }
    },
    {
      "cell_type": "code",
      "execution_count": null,
      "metadata": {
        "colab": {
          "base_uri": "https://localhost:8080/"
        },
        "id": "J1yjqb4gBLmU",
        "outputId": "e1c61058-8a2e-4f24-aa62-f80cff7beb76"
      },
      "outputs": [
        {
          "output_type": "stream",
          "name": "stdout",
          "text": [
            "Cloning into 'Vc'...\n",
            "remote: Enumerating objects: 37349, done.\u001b[K\n",
            "remote: Counting objects: 100% (386/386), done.\u001b[K\n",
            "remote: Compressing objects: 100% (195/195), done.\u001b[K\n",
            "remote: Total 37349 (delta 231), reused 277 (delta 183), pack-reused 36963\u001b[K\n",
            "Receiving objects: 100% (37349/37349), 11.23 MiB | 18.46 MiB/s, done.\n",
            "Resolving deltas: 100% (28558/28558), done.\n"
          ]
        }
      ],
      "source": [
        "!git clone https://github.com/VcDevel/Vc.git"
      ]
    },
    {
      "cell_type": "markdown",
      "source": [
        "Usaremos las instrucciones bash para acceder a la carpeta de Vc (cd) y definir la versión adecuada (1.3.3) para el entorno de Colab y VecCore. Luego, creamos carpetas dónde copilar el proyecto (recordar que usaremos Cmake para instalar las dependencias necesarias como si se tratase de copliación en CPU directa):"
      ],
      "metadata": {
        "id": "25qDysHYNu7n"
      }
    },
    {
      "cell_type": "code",
      "execution_count": null,
      "metadata": {
        "id": "DZJ-PZRDBLwJ",
        "colab": {
          "base_uri": "https://localhost:8080/"
        },
        "outputId": "a8097c54-3cf6-485c-d6c3-024f7f04d9b1"
      },
      "outputs": [
        {
          "output_type": "stream",
          "name": "stdout",
          "text": [
            "0.2.2\n",
            "0.2.3\n",
            "0.2.90\n",
            "0.2.91\n",
            "0.2.92\n",
            "0.3.90\n",
            "0.4.0\n",
            "0.4.80\n",
            "0.4.90\n",
            "0.4.91\n",
            "0.5.0\n",
            "0.5.80\n",
            "0.6.0\n",
            "0.6.1\n",
            "0.6.95\n",
            "0.7.0\n",
            "0.7.1\n",
            "0.7.2\n",
            "0.7.3\n",
            "0.7.4\n",
            "0.7.5\n",
            "0.99.71\n",
            "1.0.0\n",
            "1.1.0\n",
            "1.2.0\n",
            "1.3.0\n",
            "1.3.1\n",
            "1.3.2\n",
            "1.3.3\n",
            "1.4.0\n",
            "1.4.1\n",
            "1.4.2\n",
            "1.4.3\n"
          ]
        },
        {
          "output_type": "stream",
          "name": "stderr",
          "text": [
            "Switched to a new branch '1.3.3'\n"
          ]
        }
      ],
      "source": [
        "%%bash\n",
        "cd Vc\n",
        "git tag -l\n",
        "git checkout -b 1.3.3 1.3.3\n",
        "mkdir build\n",
        "mkdir install"
      ]
    },
    {
      "cell_type": "markdown",
      "source": [
        "Copilaremos e instalaremos Vc en esta sesión de Colab mediante el siguiente comando de cmake usando el bash:"
      ],
      "metadata": {
        "id": "x19habpLPOiP"
      }
    },
    {
      "cell_type": "code",
      "execution_count": null,
      "metadata": {
        "id": "_klcmTCs0ykt",
        "colab": {
          "base_uri": "https://localhost:8080/"
        },
        "outputId": "0e7efb14-57ef-4a38-e991-472cdc80d22f"
      },
      "outputs": [
        {
          "output_type": "stream",
          "name": "stdout",
          "text": [
            "-- The C compiler identification is GNU 7.5.0\n",
            "-- The CXX compiler identification is GNU 7.5.0\n",
            "-- Detecting C compiler ABI info\n",
            "-- Detecting C compiler ABI info - done\n",
            "-- Check for working C compiler: /usr/bin/cc - skipped\n",
            "-- Detecting C compile features\n",
            "-- Detecting C compile features - done\n",
            "-- Detecting CXX compiler ABI info\n",
            "-- Detecting CXX compiler ABI info - done\n",
            "-- Check for working CXX compiler: /usr/bin/c++ - skipped\n",
            "-- Detecting CXX compile features\n",
            "-- Detecting CXX compile features - done\n",
            "-- Detected Compiler: GCC 7\n",
            "-- MIC SDK was not found!\n",
            "-- Performing Test check_cxx_compiler_flag__std_c__14\n",
            "-- Performing Test check_cxx_compiler_flag__std_c__14 - Success\n",
            "-- Performing Test check_c_compiler_flag__W\n",
            "-- Performing Test check_c_compiler_flag__W - Success\n",
            "-- Performing Test check_cxx_compiler_flag__W\n",
            "-- Performing Test check_cxx_compiler_flag__W - Success\n",
            "-- Performing Test check_c_compiler_flag__Wall\n",
            "-- Performing Test check_c_compiler_flag__Wall - Success\n",
            "-- Performing Test check_cxx_compiler_flag__Wall\n",
            "-- Performing Test check_cxx_compiler_flag__Wall - Success\n",
            "-- Performing Test check_c_compiler_flag__Wswitch\n",
            "-- Performing Test check_c_compiler_flag__Wswitch - Success\n",
            "-- Performing Test check_cxx_compiler_flag__Wswitch\n",
            "-- Performing Test check_cxx_compiler_flag__Wswitch - Success\n",
            "-- Performing Test check_c_compiler_flag__Wformat\n",
            "-- Performing Test check_c_compiler_flag__Wformat - Success\n",
            "-- Performing Test check_cxx_compiler_flag__Wformat\n",
            "-- Performing Test check_cxx_compiler_flag__Wformat - Success\n",
            "-- Performing Test check_c_compiler_flag__Wchar_subscripts\n",
            "-- Performing Test check_c_compiler_flag__Wchar_subscripts - Success\n",
            "-- Performing Test check_cxx_compiler_flag__Wchar_subscripts\n",
            "-- Performing Test check_cxx_compiler_flag__Wchar_subscripts - Success\n",
            "-- Performing Test check_c_compiler_flag__Wparentheses\n",
            "-- Performing Test check_c_compiler_flag__Wparentheses - Success\n",
            "-- Performing Test check_cxx_compiler_flag__Wparentheses\n",
            "-- Performing Test check_cxx_compiler_flag__Wparentheses - Success\n",
            "-- Performing Test check_c_compiler_flag__Wmultichar\n",
            "-- Performing Test check_c_compiler_flag__Wmultichar - Success\n",
            "-- Performing Test check_cxx_compiler_flag__Wmultichar\n",
            "-- Performing Test check_cxx_compiler_flag__Wmultichar - Success\n",
            "-- Performing Test check_c_compiler_flag__Wtrigraphs\n",
            "-- Performing Test check_c_compiler_flag__Wtrigraphs - Success\n",
            "-- Performing Test check_cxx_compiler_flag__Wtrigraphs\n",
            "-- Performing Test check_cxx_compiler_flag__Wtrigraphs - Success\n",
            "-- Performing Test check_c_compiler_flag__Wpointer_arith\n",
            "-- Performing Test check_c_compiler_flag__Wpointer_arith - Success\n",
            "-- Performing Test check_cxx_compiler_flag__Wpointer_arith\n",
            "-- Performing Test check_cxx_compiler_flag__Wpointer_arith - Success\n",
            "-- Performing Test check_c_compiler_flag__Wcast_align\n",
            "-- Performing Test check_c_compiler_flag__Wcast_align - Success\n",
            "-- Performing Test check_cxx_compiler_flag__Wcast_align\n",
            "-- Performing Test check_cxx_compiler_flag__Wcast_align - Success\n",
            "-- Performing Test check_c_compiler_flag__Wreturn_type\n",
            "-- Performing Test check_c_compiler_flag__Wreturn_type - Success\n",
            "-- Performing Test check_cxx_compiler_flag__Wreturn_type\n",
            "-- Performing Test check_cxx_compiler_flag__Wreturn_type - Success\n",
            "-- Performing Test check_c_compiler_flag__pedantic\n",
            "-- Performing Test check_c_compiler_flag__pedantic - Success\n",
            "-- Performing Test check_cxx_compiler_flag__pedantic\n",
            "-- Performing Test check_cxx_compiler_flag__pedantic - Success\n",
            "-- Performing Test check_c_compiler_flag__Wshadow\n",
            "-- Performing Test check_c_compiler_flag__Wshadow - Success\n",
            "-- Performing Test check_cxx_compiler_flag__Wshadow\n",
            "-- Performing Test check_cxx_compiler_flag__Wshadow - Success\n",
            "-- Performing Test check_c_compiler_flag__Wundef\n",
            "-- Performing Test check_c_compiler_flag__Wundef - Success\n",
            "-- Performing Test check_cxx_compiler_flag__Wundef\n",
            "-- Performing Test check_cxx_compiler_flag__Wundef - Success\n",
            "-- Performing Test check_cxx_compiler_flag__Wold_style_cast\n",
            "-- Performing Test check_cxx_compiler_flag__Wold_style_cast - Success\n",
            "-- Performing Test check_cxx_compiler_flag__Wabi\n",
            "-- Performing Test check_cxx_compiler_flag__Wabi - Success\n",
            "-- Performing Test check_cxx_compiler_flag__fabi_version_0\n",
            "-- Performing Test check_cxx_compiler_flag__fabi_version_0 - Success\n",
            "-- Performing Test check_cxx_compiler_flag__fabi_compat_version_0\n",
            "-- Performing Test check_cxx_compiler_flag__fabi_compat_version_0 - Success\n",
            "-- Performing Test check_cxx_compiler_flag__ffp_contract_fast\n",
            "-- Performing Test check_cxx_compiler_flag__ffp_contract_fast - Success\n",
            "-- target changed from \"\" to \"auto\"\n",
            "-- Detected CPU: broadwell\n",
            "-- Performing Test check_cxx_compiler_flag__march_broadwell\n",
            "-- Performing Test check_cxx_compiler_flag__march_broadwell - Success\n",
            "-- Performing Test check_cxx_compiler_flag__msse2\n",
            "-- Performing Test check_cxx_compiler_flag__msse2 - Success\n",
            "-- Performing Test check_cxx_compiler_flag__msse3\n",
            "-- Performing Test check_cxx_compiler_flag__msse3 - Success\n",
            "-- Looking for C++ include pmmintrin.h\n",
            "-- Looking for C++ include pmmintrin.h - found\n",
            "-- Performing Test check_cxx_compiler_flag__mssse3\n",
            "-- Performing Test check_cxx_compiler_flag__mssse3 - Success\n",
            "-- Looking for C++ include tmmintrin.h\n",
            "-- Looking for C++ include tmmintrin.h - found\n",
            "-- Performing Test check_cxx_compiler_flag__msse4_1\n",
            "-- Performing Test check_cxx_compiler_flag__msse4_1 - Success\n",
            "-- Looking for C++ include smmintrin.h\n",
            "-- Looking for C++ include smmintrin.h - found\n",
            "-- Performing Test check_cxx_compiler_flag__msse4_2\n",
            "-- Performing Test check_cxx_compiler_flag__msse4_2 - Success\n",
            "-- Performing Test check_cxx_compiler_flag__mavx\n",
            "-- Performing Test check_cxx_compiler_flag__mavx - Success\n",
            "-- Looking for C++ include immintrin.h\n",
            "-- Looking for C++ include immintrin.h - found\n",
            "-- Performing Test check_cxx_compiler_flag__mfma\n",
            "-- Performing Test check_cxx_compiler_flag__mfma - Success\n",
            "-- Performing Test check_cxx_compiler_flag__mbmi2\n",
            "-- Performing Test check_cxx_compiler_flag__mbmi2 - Success\n",
            "-- Performing Test check_cxx_compiler_flag__mavx2\n",
            "-- Performing Test check_cxx_compiler_flag__mavx2 - Success\n",
            "-- Performing Test check_cxx_compiler_flag__mno_sse4a\n",
            "-- Performing Test check_cxx_compiler_flag__mno_sse4a - Success\n",
            "-- Performing Test check_cxx_compiler_flag__mno_xop\n",
            "-- Performing Test check_cxx_compiler_flag__mno_xop - Success\n",
            "-- Performing Test check_cxx_compiler_flag__mno_fma4\n",
            "-- Performing Test check_cxx_compiler_flag__mno_fma4 - Success\n",
            "-- Performing Test check_cxx_compiler_flag__mno_avx512f\n",
            "-- Performing Test check_cxx_compiler_flag__mno_avx512f - Success\n",
            "-- Performing Test check_cxx_compiler_flag__mno_avx512vl\n",
            "-- Performing Test check_cxx_compiler_flag__mno_avx512vl - Success\n",
            "-- Performing Test check_cxx_compiler_flag__mno_avx512pf\n",
            "-- Performing Test check_cxx_compiler_flag__mno_avx512pf - Success\n",
            "-- Performing Test check_cxx_compiler_flag__mno_avx512er\n",
            "-- Performing Test check_cxx_compiler_flag__mno_avx512er - Success\n",
            "-- Performing Test check_cxx_compiler_flag__mno_avx512cd\n",
            "-- Performing Test check_cxx_compiler_flag__mno_avx512cd - Success\n",
            "-- Performing Test check_cxx_compiler_flag__mno_avx512dq\n",
            "-- Performing Test check_cxx_compiler_flag__mno_avx512dq - Success\n",
            "-- Performing Test check_cxx_compiler_flag__mno_avx512bw\n",
            "-- Performing Test check_cxx_compiler_flag__mno_avx512bw - Success\n",
            "-- Performing Test check_cxx_compiler_flag__mno_avx512ifma\n",
            "-- Performing Test check_cxx_compiler_flag__mno_avx512ifma - Success\n",
            "-- Performing Test check_cxx_compiler_flag__mno_avx512vbmi\n",
            "-- Performing Test check_cxx_compiler_flag__mno_avx512vbmi - Success\n",
            "-- Performing Test check_cxx_compiler_flag__ftemplate_depth_128\n",
            "-- Performing Test check_cxx_compiler_flag__ftemplate_depth_128 - Success\n",
            "-- Performing Test check_cxx_compiler_flag__fPIC\n",
            "-- Performing Test check_cxx_compiler_flag__fPIC - Success\n",
            "-- Performing Test check_cxx_compiler_flag__xSSE2\n",
            "-- Performing Test check_cxx_compiler_flag__xSSE2 - Failed\n",
            "-- Performing Test check_cxx_compiler_flag__xSSE3\n",
            "-- Performing Test check_cxx_compiler_flag__xSSE3 - Failed\n",
            "-- Performing Test check_cxx_compiler_flag__xSSSE3\n",
            "-- Performing Test check_cxx_compiler_flag__xSSSE3 - Failed\n",
            "-- Performing Test check_cxx_compiler_flag__xSSE4_1\n",
            "-- Performing Test check_cxx_compiler_flag__xSSE4_1 - Failed\n",
            "-- Performing Test check_cxx_compiler_flag__xAVX\n",
            "-- Performing Test check_cxx_compiler_flag__xAVX - Failed\n",
            "-- Performing Test check_cxx_compiler_flag__mxop\n",
            "-- Performing Test check_cxx_compiler_flag__mxop - Success\n",
            "-- Performing Test check_cxx_compiler_flag__mfma4\n",
            "-- Performing Test check_cxx_compiler_flag__mfma4 - Success\n",
            "-- Performing Test check_cxx_compiler_flag__xCORE_AVX2\n",
            "-- Performing Test check_cxx_compiler_flag__xCORE_AVX2 - Failed\n",
            "-- Configuring done\n",
            "-- Generating done\n",
            "-- Build files have been written to: /content/Vc/build\n",
            "[  2%] Copy to /content/Vc/build/trigonometric_SSSE3.cpp\n",
            "[  5%] Copy to /content/Vc/build/sse_sorthelper_AVX.cpp\n",
            "[  8%] Copy to /content/Vc/build/avx_sorthelper_AVX.cpp\n",
            "[ 11%] Copy to /content/Vc/build/avx_sorthelper_AVX2+FMA+BMI2.cpp\n",
            "[ 13%] Copy to /content/Vc/build/sse_sorthelper_SSE2.cpp\n",
            "[ 16%] Copy to /content/Vc/build/sse_sorthelper_AVX2+FMA+BMI2.cpp\n",
            "[ 19%] Copy to /content/Vc/build/sse_sorthelper_SSE4_1.cpp\n",
            "[ 22%] Copy to /content/Vc/build/trigonometric_AVX+FMA.cpp\n",
            "[ 25%] Copy to /content/Vc/build/trigonometric_AVX+XOP+FMA.cpp\n",
            "[ 27%] Copy to /content/Vc/build/trigonometric_AVX.cpp\n",
            "[ 30%] Copy to /content/Vc/build/trigonometric_AVX+XOP+FMA4.cpp\n",
            "[ 33%] Copy to /content/Vc/build/trigonometric_AVX2+FMA+BMI2.cpp\n",
            "[ 36%] Copy to /content/Vc/build/trigonometric_SSE+XOP+FMA4.cpp\n",
            "[ 38%] Copy to /content/Vc/build/trigonometric_SSE3.cpp\n",
            "[ 41%] Copy to /content/Vc/build/trigonometric_SSE2.cpp\n",
            "[ 44%] Copy to /content/Vc/build/trigonometric_SSE4_1.cpp\n",
            "[ 47%] Building CXX object CMakeFiles/Vc.dir/src/const.cpp.o\n",
            "[ 50%] Building CXX object CMakeFiles/Vc.dir/src/cpuid.cpp.o\n",
            "[ 52%] Building CXX object CMakeFiles/Vc.dir/trigonometric_SSE2.cpp.o\n",
            "[ 55%] Building CXX object CMakeFiles/Vc.dir/src/support_x86.cpp.o\n",
            "[ 58%] Building CXX object CMakeFiles/Vc.dir/trigonometric_SSE3.cpp.o\n",
            "[ 61%] Building CXX object CMakeFiles/Vc.dir/trigonometric_SSSE3.cpp.o\n",
            "[ 63%] Building CXX object CMakeFiles/Vc.dir/trigonometric_SSE4_1.cpp.o\n",
            "[ 66%] Building CXX object CMakeFiles/Vc.dir/trigonometric_AVX.cpp.o\n",
            "[ 69%] Building CXX object CMakeFiles/Vc.dir/trigonometric_SSE+XOP+FMA4.cpp.o\n",
            "[ 72%] Building CXX object CMakeFiles/Vc.dir/trigonometric_AVX+XOP+FMA4.cpp.o\n",
            "[ 75%] Building CXX object CMakeFiles/Vc.dir/trigonometric_AVX+XOP+FMA.cpp.o\n",
            "[ 77%] Building CXX object CMakeFiles/Vc.dir/trigonometric_AVX+FMA.cpp.o\n",
            "[ 80%] Building CXX object CMakeFiles/Vc.dir/trigonometric_AVX2+FMA+BMI2.cpp.o\n",
            "[ 83%] Building CXX object CMakeFiles/Vc.dir/sse_sorthelper_SSE2.cpp.o\n",
            "[ 86%] Building CXX object CMakeFiles/Vc.dir/sse_sorthelper_SSE4_1.cpp.o\n",
            "[ 88%] Building CXX object CMakeFiles/Vc.dir/sse_sorthelper_AVX.cpp.o\n",
            "[ 91%] Building CXX object CMakeFiles/Vc.dir/sse_sorthelper_AVX2+FMA+BMI2.cpp.o\n",
            "[ 94%] Building CXX object CMakeFiles/Vc.dir/avx_sorthelper_AVX.cpp.o\n",
            "[ 97%] Building CXX object CMakeFiles/Vc.dir/avx_sorthelper_AVX2+FMA+BMI2.cpp.o\n",
            "[100%] Linking CXX static library libVc.a\n",
            "[100%] Built target Vc\n",
            "Consolidate compiler generated dependencies of target Vc\n",
            "[100%] Built target Vc\n",
            "Install the project...\n",
            "-- Install configuration: \"Release\"\n",
            "-- Installing: /content/Vc/install/lib/libVc.a\n",
            "-- Installing: /content/Vc/install/include/Vc\n",
            "-- Installing: /content/Vc/install/include/Vc/iterators\n",
            "-- Installing: /content/Vc/install/include/Vc/Memory\n",
            "-- Installing: /content/Vc/install/include/Vc/simdize\n",
            "-- Installing: /content/Vc/install/include/Vc/short_v\n",
            "-- Installing: /content/Vc/install/include/Vc/float_v\n",
            "-- Installing: /content/Vc/install/include/Vc/array\n",
            "-- Installing: /content/Vc/install/include/Vc/support.h\n",
            "-- Installing: /content/Vc/install/include/Vc/Utils\n",
            "-- Installing: /content/Vc/install/include/Vc/IO\n",
            "-- Installing: /content/Vc/install/include/Vc/sfloat_v\n",
            "-- Installing: /content/Vc/install/include/Vc/Vc\n",
            "-- Installing: /content/Vc/install/include/Vc/double_v\n",
            "-- Installing: /content/Vc/install/include/Vc/vector.h\n",
            "-- Installing: /content/Vc/install/include/Vc/vector\n",
            "-- Installing: /content/Vc/install/include/Vc/uint_v\n",
            "-- Installing: /content/Vc/install/include/Vc/cpuid.h\n",
            "-- Installing: /content/Vc/install/include/Vc/ushort_v\n",
            "-- Installing: /content/Vc/install/include/Vc/int_v\n",
            "-- Installing: /content/Vc/install/include/Vc/SimdArray\n",
            "-- Installing: /content/Vc/install/include/Vc/limits\n",
            "-- Installing: /content/Vc/install/include/Vc/Allocator\n",
            "-- Installing: /content/Vc/install/include/Vc/type_traits\n",
            "-- Installing: /content/Vc/install/include/Vc/global.h\n",
            "-- Installing: /content/Vc/install/include/Vc/version.h\n",
            "-- Installing: /content/Vc/install/include/Vc/scalar\n",
            "-- Installing: /content/Vc/install/include/Vc/scalar/macros.h\n",
            "-- Installing: /content/Vc/install/include/Vc/scalar/detail.h\n",
            "-- Installing: /content/Vc/install/include/Vc/scalar/vector.tcc\n",
            "-- Installing: /content/Vc/install/include/Vc/scalar/math.h\n",
            "-- Installing: /content/Vc/install/include/Vc/scalar/helperimpl.h\n",
            "-- Installing: /content/Vc/install/include/Vc/scalar/type_traits.h\n",
            "-- Installing: /content/Vc/install/include/Vc/scalar/types.h\n",
            "-- Installing: /content/Vc/install/include/Vc/scalar/simd_cast_caller.tcc\n",
            "-- Installing: /content/Vc/install/include/Vc/scalar/vector.h\n",
            "-- Installing: /content/Vc/install/include/Vc/scalar/limits.h\n",
            "-- Installing: /content/Vc/install/include/Vc/scalar/operators.h\n",
            "-- Installing: /content/Vc/install/include/Vc/scalar/mask.h\n",
            "-- Installing: /content/Vc/install/include/Vc/scalar/simd_cast.h\n",
            "-- Installing: /content/Vc/install/include/Vc/sse\n",
            "-- Installing: /content/Vc/install/include/Vc/sse/macros.h\n",
            "-- Installing: /content/Vc/install/include/Vc/sse/detail.h\n",
            "-- Installing: /content/Vc/install/include/Vc/sse/intrinsics.h\n",
            "-- Installing: /content/Vc/install/include/Vc/sse/vector.tcc\n",
            "-- Installing: /content/Vc/install/include/Vc/sse/math.h\n",
            "-- Installing: /content/Vc/install/include/Vc/sse/const_data.h\n",
            "-- Installing: /content/Vc/install/include/Vc/sse/helperimpl.h\n",
            "-- Installing: /content/Vc/install/include/Vc/sse/prefetches.tcc\n",
            "-- Installing: /content/Vc/install/include/Vc/sse/const.h\n",
            "-- Installing: /content/Vc/install/include/Vc/sse/type_traits.h\n",
            "-- Installing: /content/Vc/install/include/Vc/sse/types.h\n",
            "-- Installing: /content/Vc/install/include/Vc/sse/casts.h\n",
            "-- Installing: /content/Vc/install/include/Vc/sse/simd_cast_caller.tcc\n",
            "-- Installing: /content/Vc/install/include/Vc/sse/vectorhelper.h\n",
            "-- Installing: /content/Vc/install/include/Vc/sse/vector.h\n",
            "-- Installing: /content/Vc/install/include/Vc/sse/mask.tcc\n",
            "-- Installing: /content/Vc/install/include/Vc/sse/debug.h\n",
            "-- Installing: /content/Vc/install/include/Vc/sse/deinterleave.tcc\n",
            "-- Installing: /content/Vc/install/include/Vc/sse/limits.h\n",
            "-- Installing: /content/Vc/install/include/Vc/sse/mask.h\n",
            "-- Installing: /content/Vc/install/include/Vc/sse/shuffle.h\n",
            "-- Installing: /content/Vc/install/include/Vc/sse/simd_cast.h\n",
            "-- Installing: /content/Vc/install/include/Vc/sse/vectorhelper.tcc\n",
            "-- Installing: /content/Vc/install/include/Vc/avx\n",
            "-- Installing: /content/Vc/install/include/Vc/avx/macros.h\n",
            "-- Installing: /content/Vc/install/include/Vc/avx/detail.h\n",
            "-- Installing: /content/Vc/install/include/Vc/avx/intrinsics.h\n",
            "-- Installing: /content/Vc/install/include/Vc/avx/vector.tcc\n",
            "-- Installing: /content/Vc/install/include/Vc/avx/math.h\n",
            "-- Installing: /content/Vc/install/include/Vc/avx/const_data.h\n",
            "-- Installing: /content/Vc/install/include/Vc/avx/helperimpl.h\n",
            "-- Installing: /content/Vc/install/include/Vc/avx/const.h\n",
            "-- Installing: /content/Vc/install/include/Vc/avx/types.h\n",
            "-- Installing: /content/Vc/install/include/Vc/avx/casts.h\n",
            "-- Installing: /content/Vc/install/include/Vc/avx/simd_cast_caller.tcc\n",
            "-- Installing: /content/Vc/install/include/Vc/avx/vectorhelper.h\n",
            "-- Installing: /content/Vc/install/include/Vc/avx/vector.h\n",
            "-- Installing: /content/Vc/install/include/Vc/avx/mask.tcc\n",
            "-- Installing: /content/Vc/install/include/Vc/avx/debug.h\n",
            "-- Installing: /content/Vc/install/include/Vc/avx/deinterleave.tcc\n",
            "-- Installing: /content/Vc/install/include/Vc/avx/limits.h\n",
            "-- Installing: /content/Vc/install/include/Vc/avx/mask.h\n",
            "-- Installing: /content/Vc/install/include/Vc/avx/shuffle.h\n",
            "-- Installing: /content/Vc/install/include/Vc/avx/simd_cast.h\n",
            "-- Installing: /content/Vc/install/include/Vc/mic\n",
            "-- Installing: /content/Vc/install/include/Vc/mic/macros.h\n",
            "-- Installing: /content/Vc/install/include/Vc/mic/writemaskedvector.h\n",
            "-- Installing: /content/Vc/install/include/Vc/mic/detail.h\n",
            "-- Installing: /content/Vc/install/include/Vc/mic/intrinsics.h\n",
            "-- Installing: /content/Vc/install/include/Vc/mic/vector.tcc\n",
            "-- Installing: /content/Vc/install/include/Vc/mic/math.h\n",
            "-- Installing: /content/Vc/install/include/Vc/mic/const_data.h\n",
            "-- Installing: /content/Vc/install/include/Vc/mic/helperimpl.h\n",
            "-- Installing: /content/Vc/install/include/Vc/mic/prefetches.tcc\n",
            "-- Installing: /content/Vc/install/include/Vc/mic/sorthelper.h\n",
            "-- Installing: /content/Vc/install/include/Vc/mic/type_traits.h\n",
            "-- Installing: /content/Vc/install/include/Vc/mic/types.h\n",
            "-- Installing: /content/Vc/install/include/Vc/mic/casts.h\n",
            "-- Installing: /content/Vc/install/include/Vc/mic/simd_cast_caller.tcc\n",
            "-- Installing: /content/Vc/install/include/Vc/mic/storemixin.h\n",
            "-- Installing: /content/Vc/install/include/Vc/mic/vector.h\n",
            "-- Installing: /content/Vc/install/include/Vc/mic/mask.tcc\n",
            "-- Installing: /content/Vc/install/include/Vc/mic/interleaveimpl.h\n",
            "-- Installing: /content/Vc/install/include/Vc/mic/debug.h\n",
            "-- Installing: /content/Vc/install/include/Vc/mic/deinterleave.tcc\n",
            "-- Installing: /content/Vc/install/include/Vc/mic/limits.h\n",
            "-- Installing: /content/Vc/install/include/Vc/mic/mask.h\n",
            "-- Installing: /content/Vc/install/include/Vc/mic/simd_cast.h\n",
            "-- Installing: /content/Vc/install/include/Vc/common\n",
            "-- Installing: /content/Vc/install/include/Vc/common/alignedbase.h\n",
            "-- Installing: /content/Vc/install/include/Vc/common/macros.h\n",
            "-- Installing: /content/Vc/install/include/Vc/common/writemaskedvector.h\n",
            "-- Installing: /content/Vc/install/include/Vc/common/fix_clang_emmintrin.h\n",
            "-- Installing: /content/Vc/install/include/Vc/common/subscript.h\n",
            "-- Installing: /content/Vc/install/include/Vc/common/x86_prefetches.h\n",
            "-- Installing: /content/Vc/install/include/Vc/common/makeContainer.h\n",
            "-- Installing: /content/Vc/install/include/Vc/common/math.h\n",
            "-- Installing: /content/Vc/install/include/Vc/common/simdarray.h\n",
            "-- Installing: /content/Vc/install/include/Vc/common/aliasingentryhelper.h\n",
            "-- Installing: /content/Vc/install/include/Vc/common/where.h\n",
            "-- Installing: /content/Vc/install/include/Vc/common/vectortuple.h\n",
            "-- Installing: /content/Vc/install/include/Vc/common/const.h\n",
            "-- Installing: /content/Vc/install/include/Vc/common/deinterleave.h\n",
            "-- Installing: /content/Vc/install/include/Vc/common/vectortraits.h\n",
            "-- Installing: /content/Vc/install/include/Vc/common/transpose.h\n",
            "-- Installing: /content/Vc/install/include/Vc/common/support.h\n",
            "-- Installing: /content/Vc/install/include/Vc/common/set.h\n",
            "-- Installing: /content/Vc/install/include/Vc/common/permutation.h\n",
            "-- Installing: /content/Vc/install/include/Vc/common/utility.h\n",
            "-- Installing: /content/Vc/install/include/Vc/common/scatterinterface.h\n",
            "-- Installing: /content/Vc/install/include/Vc/common/loadinterface.h\n",
            "-- Installing: /content/Vc/install/include/Vc/common/storage.h\n",
            "-- Installing: /content/Vc/install/include/Vc/common/indexsequence.h\n",
            "-- Installing: /content/Vc/install/include/Vc/common/types.h\n",
            "-- Installing: /content/Vc/install/include/Vc/common/interleave.h\n",
            "-- Installing: /content/Vc/install/include/Vc/common/simd_cast_caller.tcc\n",
            "-- Installing: /content/Vc/install/include/Vc/common/elementreference.h\n",
            "-- Installing: /content/Vc/install/include/Vc/common/memory.h\n",
            "-- Installing: /content/Vc/install/include/Vc/common/iterators.h\n",
            "-- Installing: /content/Vc/install/include/Vc/common/vector.h\n",
            "-- Installing: /content/Vc/install/include/Vc/common/logarithm.h\n",
            "-- Installing: /content/Vc/install/include/Vc/common/make_unique.h\n",
            "-- Installing: /content/Vc/install/include/Vc/common/vector\n",
            "-- Installing: /content/Vc/install/include/Vc/common/vector/casts.h\n",
            "-- Installing: /content/Vc/install/include/Vc/common/gatherinterface.h\n",
            "-- Installing: /content/Vc/install/include/Vc/common/iif.h\n",
            "-- Installing: /content/Vc/install/include/Vc/common/storeinterface.h\n",
            "-- Installing: /content/Vc/install/include/Vc/common/trigonometric.h\n",
            "-- Installing: /content/Vc/install/include/Vc/common/exponential.h\n",
            "-- Installing: /content/Vc/install/include/Vc/common/maskbool.h\n",
            "-- Installing: /content/Vc/install/include/Vc/common/malloc.h\n",
            "-- Installing: /content/Vc/install/include/Vc/common/memorybase.h\n",
            "-- Installing: /content/Vc/install/include/Vc/common/operators.h\n",
            "-- Installing: /content/Vc/install/include/Vc/common/data.h\n",
            "-- Installing: /content/Vc/install/include/Vc/common/interleavedmemory.h\n",
            "-- Installing: /content/Vc/install/include/Vc/common/bitscanintrinsics.h\n",
            "-- Installing: /content/Vc/install/include/Vc/common/memoryfwd.h\n",
            "-- Installing: /content/Vc/install/include/Vc/common/simdmaskarray.h\n",
            "-- Installing: /content/Vc/install/include/Vc/common/simdarrayhelper.h\n",
            "-- Installing: /content/Vc/install/include/Vc/common/algorithms.h\n",
            "-- Installing: /content/Vc/install/include/Vc/common/scatterimplementation.h\n",
            "-- Installing: /content/Vc/install/include/Vc/common/simdize.h\n",
            "-- Installing: /content/Vc/install/include/Vc/common/simdarrayfwd.h\n",
            "-- Installing: /content/Vc/install/include/Vc/common/mask.h\n",
            "-- Installing: /content/Vc/install/include/Vc/common/vectorabi.h\n",
            "-- Installing: /content/Vc/install/include/Vc/common/loadstoreflags.h\n",
            "-- Installing: /content/Vc/install/include/Vc/common/gatherimplementation.h\n",
            "-- Installing: /content/Vc/install/include/Vc/common/simd_cast.h\n",
            "-- Installing: /content/Vc/install/include/Vc/common/generalinterface.h\n",
            "-- Installing: /content/Vc/install/include/Vc/traits\n",
            "-- Installing: /content/Vc/install/include/Vc/traits/is_implicit_cast_allowed.h\n",
            "-- Installing: /content/Vc/install/include/Vc/traits/is_index_sequence.h\n",
            "-- Installing: /content/Vc/install/include/Vc/traits/is_functor_argument_immutable.h\n",
            "-- Installing: /content/Vc/install/include/Vc/traits/is_gather_signature.h\n",
            "-- Installing: /content/Vc/install/include/Vc/traits/is_load_arguments.h\n",
            "-- Installing: /content/Vc/install/include/Vc/traits/has_no_allocated_data.h\n",
            "-- Installing: /content/Vc/install/include/Vc/traits/type_traits.h\n",
            "-- Installing: /content/Vc/install/include/Vc/traits/has_addition_operator.h\n",
            "-- Installing: /content/Vc/install/include/Vc/traits/is_output_iterator.h\n",
            "-- Installing: /content/Vc/install/include/Vc/traits/has_contiguous_storage.h\n",
            "-- Installing: /content/Vc/install/include/Vc/traits/is_initializer_list.h\n",
            "-- Installing: /content/Vc/install/include/Vc/traits/decay.h\n",
            "-- Installing: /content/Vc/install/include/Vc/traits/has_subscript_operator.h\n",
            "-- Installing: /content/Vc/install/include/Vc/traits/has_multiply_operator.h\n",
            "-- Installing: /content/Vc/install/include/Vc/traits/has_equality_operator.h\n",
            "-- Installing: /content/Vc/install/include/Vc/traits/entry_type_of.h\n",
            "-- Installing: /content/Vc/install/lib/cmake/Vc/UserWarning.cmake\n",
            "-- Installing: /content/Vc/install/lib/cmake/Vc/VcMacros.cmake\n",
            "-- Installing: /content/Vc/install/lib/cmake/Vc/AddCompilerFlag.cmake\n",
            "-- Installing: /content/Vc/install/lib/cmake/Vc/CheckCCompilerFlag.cmake\n",
            "-- Installing: /content/Vc/install/lib/cmake/Vc/CheckCXXCompilerFlag.cmake\n",
            "-- Installing: /content/Vc/install/lib/cmake/Vc/CheckMicCCompilerFlag.cmake\n",
            "-- Installing: /content/Vc/install/lib/cmake/Vc/CheckMicCXXCompilerFlag.cmake\n",
            "-- Installing: /content/Vc/install/lib/cmake/Vc/FindMIC.cmake\n",
            "-- Installing: /content/Vc/install/lib/cmake/Vc/OptimizeForArchitecture.cmake\n",
            "-- Installing: /content/Vc/install/lib/cmake/Vc/FindVc.cmake\n",
            "-- Installing: /content/Vc/install/lib/cmake/Vc/VcConfig.cmake\n",
            "-- Installing: /content/Vc/install/lib/cmake/Vc/VcConfigVersion.cmake\n"
          ]
        },
        {
          "output_type": "stream",
          "name": "stderr",
          "text": [
            "CMake Deprecation Warning at cmake/VcMacros.cmake:35 (cmake_minimum_required):\n",
            "  Compatibility with CMake < 2.8.12 will be removed from a future version of\n",
            "  CMake.\n",
            "\n",
            "  Update the VERSION argument <min> value or use a ...<max> suffix to tell\n",
            "  CMake that the project does not need compatibility with older versions.\n",
            "Call Stack (most recent call first):\n",
            "  CMakeLists.txt:18 (include)\n",
            "\n",
            "\n"
          ]
        }
      ],
      "source": [
        "%%bash\n",
        "cd Vc\n",
        "cd build\n",
        "cmake -DCMAKE_INSTALL_PREFIX=/content/Vc/install  /content/Vc\n",
        "make -j4\n",
        "make install"
      ]
    },
    {
      "cell_type": "markdown",
      "source": [
        "De igual forma, realizamos los mismos pasos para instalar VecCore (sin fijar una versión):"
      ],
      "metadata": {
        "id": "akfA3TIxPyYV"
      }
    },
    {
      "cell_type": "code",
      "execution_count": null,
      "metadata": {
        "colab": {
          "base_uri": "https://localhost:8080/"
        },
        "id": "e2fuBZOVFYsb",
        "outputId": "b2f7c16b-d407-45ad-da59-8ca617ecfd32"
      },
      "outputs": [
        {
          "output_type": "stream",
          "name": "stdout",
          "text": [
            "Cloning into 'VecCore'...\n",
            "warning: redirecting to https://gitlab.cern.ch/VecGeom/VecCore.git/\n",
            "remote: Enumerating objects: 4636, done.\u001b[K\n",
            "remote: Counting objects: 100% (4636/4636), done.\u001b[K\n",
            "remote: Compressing objects: 100% (1865/1865), done.\u001b[K\n",
            "remote: Total 4636 (delta 2676), reused 4586 (delta 2631), pack-reused 0\u001b[K\n",
            "Receiving objects: 100% (4636/4636), 14.54 MiB | 9.61 MiB/s, done.\n",
            "Resolving deltas: 100% (2676/2676), done.\n"
          ]
        }
      ],
      "source": [
        "!git clone https://gitlab.cern.ch/VecGeom/VecCore"
      ]
    },
    {
      "cell_type": "code",
      "execution_count": null,
      "metadata": {
        "id": "3g8x7HH-BaHI"
      },
      "outputs": [],
      "source": [
        "%%bash\n",
        "cd VecCore\n",
        "mkdir build\n",
        "mkdir install"
      ]
    },
    {
      "cell_type": "markdown",
      "source": [
        "Observar que fijamos como Backend la librería de Vc en las instrucciones de cmake:"
      ],
      "metadata": {
        "id": "jOA_r1_gRHWr"
      }
    },
    {
      "cell_type": "code",
      "execution_count": null,
      "metadata": {
        "id": "B1YW0SE8BaKI",
        "colab": {
          "base_uri": "https://localhost:8080/"
        },
        "outputId": "6023c87f-1b04-4bb2-abbc-dfbe14462250"
      },
      "outputs": [
        {
          "output_type": "stream",
          "name": "stdout",
          "text": [
            "-- The C compiler identification is GNU 7.5.0\n",
            "-- The CXX compiler identification is GNU 7.5.0\n",
            "-- Detecting C compiler ABI info\n",
            "-- Detecting C compiler ABI info - done\n",
            "-- Check for working C compiler: /usr/bin/cc - skipped\n",
            "-- Detecting C compile features\n",
            "-- Detecting C compile features - done\n",
            "-- Detecting CXX compiler ABI info\n",
            "-- Detecting CXX compiler ABI info - done\n",
            "-- Check for working CXX compiler: /usr/bin/c++ - skipped\n",
            "-- Detecting CXX compile features\n",
            "-- Detecting CXX compile features - done\n",
            "-- Detected Compiler: GCC 7\n",
            "-- Performing Test check_cxx_compiler_flag__Wabi\n",
            "-- Performing Test check_cxx_compiler_flag__Wabi - Success\n",
            "-- Performing Test check_cxx_compiler_flag__fabi_version_0\n",
            "-- Performing Test check_cxx_compiler_flag__fabi_version_0 - Success\n",
            "-- Performing Test check_cxx_compiler_flag__fabi_compat_version_0\n",
            "-- Performing Test check_cxx_compiler_flag__fabi_compat_version_0 - Success\n",
            "-- Performing Test check_cxx_compiler_flag__ffp_contract_fast\n",
            "-- Performing Test check_cxx_compiler_flag__ffp_contract_fast - Success\n",
            "-- target changed from \"\" to \"auto\"\n",
            "-- Detected CPU: broadwell\n",
            "-- Performing Test check_cxx_compiler_flag__march_broadwell\n",
            "-- Performing Test check_cxx_compiler_flag__march_broadwell - Success\n",
            "-- Performing Test check_cxx_compiler_flag__msse2\n",
            "-- Performing Test check_cxx_compiler_flag__msse2 - Success\n",
            "-- Performing Test check_cxx_compiler_flag__msse3\n",
            "-- Performing Test check_cxx_compiler_flag__msse3 - Success\n",
            "-- Looking for C++ include pmmintrin.h\n",
            "-- Looking for C++ include pmmintrin.h - found\n",
            "-- Performing Test check_cxx_compiler_flag__mssse3\n",
            "-- Performing Test check_cxx_compiler_flag__mssse3 - Success\n",
            "-- Looking for C++ include tmmintrin.h\n",
            "-- Looking for C++ include tmmintrin.h - found\n",
            "-- Performing Test check_cxx_compiler_flag__msse4_1\n",
            "-- Performing Test check_cxx_compiler_flag__msse4_1 - Success\n",
            "-- Looking for C++ include smmintrin.h\n",
            "-- Looking for C++ include smmintrin.h - found\n",
            "-- Performing Test check_cxx_compiler_flag__msse4_2\n",
            "-- Performing Test check_cxx_compiler_flag__msse4_2 - Success\n",
            "-- Performing Test check_cxx_compiler_flag__mavx\n",
            "-- Performing Test check_cxx_compiler_flag__mavx - Success\n",
            "-- Looking for C++ include immintrin.h\n",
            "-- Looking for C++ include immintrin.h - found\n",
            "-- Performing Test check_cxx_compiler_flag__mfma\n",
            "-- Performing Test check_cxx_compiler_flag__mfma - Success\n",
            "-- Performing Test check_cxx_compiler_flag__mbmi2\n",
            "-- Performing Test check_cxx_compiler_flag__mbmi2 - Success\n",
            "-- Performing Test check_cxx_compiler_flag__mavx2\n",
            "-- Performing Test check_cxx_compiler_flag__mavx2 - Success\n",
            "-- Performing Test check_cxx_compiler_flag__mno_sse4a\n",
            "-- Performing Test check_cxx_compiler_flag__mno_sse4a - Success\n",
            "-- Performing Test check_cxx_compiler_flag__mno_xop\n",
            "-- Performing Test check_cxx_compiler_flag__mno_xop - Success\n",
            "-- Performing Test check_cxx_compiler_flag__mno_fma4\n",
            "-- Performing Test check_cxx_compiler_flag__mno_fma4 - Success\n",
            "-- Performing Test check_cxx_compiler_flag__mno_avx512f\n",
            "-- Performing Test check_cxx_compiler_flag__mno_avx512f - Success\n",
            "-- Performing Test check_cxx_compiler_flag__mno_avx512vl\n",
            "-- Performing Test check_cxx_compiler_flag__mno_avx512vl - Success\n",
            "-- Performing Test check_cxx_compiler_flag__mno_avx512pf\n",
            "-- Performing Test check_cxx_compiler_flag__mno_avx512pf - Success\n",
            "-- Performing Test check_cxx_compiler_flag__mno_avx512er\n",
            "-- Performing Test check_cxx_compiler_flag__mno_avx512er - Success\n",
            "-- Performing Test check_cxx_compiler_flag__mno_avx512cd\n",
            "-- Performing Test check_cxx_compiler_flag__mno_avx512cd - Success\n",
            "-- Performing Test check_cxx_compiler_flag__mno_avx512dq\n",
            "-- Performing Test check_cxx_compiler_flag__mno_avx512dq - Success\n",
            "-- Performing Test check_cxx_compiler_flag__mno_avx512bw\n",
            "-- Performing Test check_cxx_compiler_flag__mno_avx512bw - Success\n",
            "-- Performing Test check_cxx_compiler_flag__mno_avx512ifma\n",
            "-- Performing Test check_cxx_compiler_flag__mno_avx512ifma - Success\n",
            "-- Performing Test check_cxx_compiler_flag__mno_avx512vbmi\n",
            "-- Performing Test check_cxx_compiler_flag__mno_avx512vbmi - Success\n",
            "-- Found Vc: /content/Vc/install/lib/libVc.a (found suitable version \"1.3.3\", minimum required is \"1.3.3\") \n",
            "-- Configuring done\n",
            "-- Generating done\n",
            "-- Build files have been written to: /content/VecCore/build\n"
          ]
        },
        {
          "output_type": "stream",
          "name": "stderr",
          "text": [
            "CMake Deprecation Warning at /content/Vc/install/lib/cmake/Vc/VcMacros.cmake:35 (cmake_minimum_required):\n",
            "  Compatibility with CMake < 2.8.12 will be removed from a future version of\n",
            "  CMake.\n",
            "\n",
            "  Update the VERSION argument <min> value or use a ...<max> suffix to tell\n",
            "  CMake that the project does not need compatibility with older versions.\n",
            "Call Stack (most recent call first):\n",
            "  /content/Vc/install/lib/cmake/Vc/VcConfig.cmake:17 (include)\n",
            "  cmake/Builtins.cmake:14 (_find_package)\n",
            "  CMakeLists.txt:37 (find_package)\n",
            "\n",
            "\n"
          ]
        }
      ],
      "source": [
        "%%bash\n",
        "cd VecCore\n",
        "cd build\n",
        "cmake -DCMAKE_INSTALL_PREFIX=/content/VecCore/install -DVc_DIR=/content/Vc/install/lib/cmake/Vc   \\\n",
        "-DVECCORE_ENABLE_VC=ON -DBACKEND=Vc -DVC=ON /content/VecCore\n",
        "make -j4"
      ]
    },
    {
      "cell_type": "code",
      "execution_count": null,
      "metadata": {
        "id": "F3VD5yYnBkuw",
        "colab": {
          "base_uri": "https://localhost:8080/"
        },
        "outputId": "e44623fe-4e9d-4991-e5d1-800e91e3fe60"
      },
      "outputs": [
        {
          "output_type": "stream",
          "name": "stdout",
          "text": [
            "Install the project...\n",
            "-- Install configuration: \"\"\n",
            "-- Installing: /content/VecCore/install/include/VecCore\n",
            "-- Installing: /content/VecCore/install/include/VecCore/Assert.h\n",
            "-- Installing: /content/VecCore/install/include/VecCore/Utilities.h\n",
            "-- Installing: /content/VecCore/install/include/VecCore/Types.h\n",
            "-- Installing: /content/VecCore/install/include/VecCore/CUDA.h\n",
            "-- Installing: /content/VecCore/install/include/VecCore/Limits.h\n",
            "-- Installing: /content/VecCore/install/include/VecCore/Backend\n",
            "-- Installing: /content/VecCore/install/include/VecCore/Backend/VcVector.h\n",
            "-- Installing: /content/VecCore/install/include/VecCore/Backend/VcScalar.h\n",
            "-- Installing: /content/VecCore/install/include/VecCore/Backend/Scalar.h\n",
            "-- Installing: /content/VecCore/install/include/VecCore/Backend/VcSimdArray.h\n",
            "-- Installing: /content/VecCore/install/include/VecCore/Backend/UMESimdCommon.h\n",
            "-- Installing: /content/VecCore/install/include/VecCore/Backend/UMESimd.h\n",
            "-- Installing: /content/VecCore/install/include/VecCore/Backend/SIMDSizes.h\n",
            "-- Installing: /content/VecCore/install/include/VecCore/Backend/Interface.h\n",
            "-- Installing: /content/VecCore/install/include/VecCore/Backend/ScalarWrapper.h\n",
            "-- Installing: /content/VecCore/install/include/VecCore/Backend/Implementation.h\n",
            "-- Installing: /content/VecCore/install/include/VecCore/Backend/UMESimdArray.h\n",
            "-- Installing: /content/VecCore/install/include/VecCore/Backend/Vc.h\n",
            "-- Installing: /content/VecCore/install/include/VecCore/Backend/SIMD.h\n",
            "-- Installing: /content/VecCore/install/include/VecCore/Backend/Deprecated.h\n",
            "-- Installing: /content/VecCore/install/include/VecCore/VecMath.h\n",
            "-- Installing: /content/VecCore/install/include/VecCore/Version.h\n",
            "-- Installing: /content/VecCore/install/include/VecCore/Common.h\n",
            "-- Installing: /content/VecCore/install/include/VecCore/VecCore\n",
            "-- Installing: /content/VecCore/install/include/VecCore/SIMD.h\n",
            "-- Installing: /content/VecCore/install/lib/cmake/VecCore/FindUMESIMD.cmake\n",
            "-- Up-to-date: /content/VecCore/install/lib/cmake/VecCore\n",
            "-- Installing: /content/VecCore/install/lib/cmake/VecCore/VecCoreConfigVersion.cmake\n",
            "-- Installing: /content/VecCore/install/lib/cmake/VecCore/VecCoreConfig.cmake\n"
          ]
        }
      ],
      "source": [
        "%%bash\n",
        "cd VecCore\n",
        "cd build\n",
        "make install"
      ]
    },
    {
      "cell_type": "markdown",
      "metadata": {
        "id": "fL5OIo0U09zn"
      },
      "source": [
        "\n",
        "**Segunda parte: Programación de los ejemplos**\n",
        "\n",
        "En esta sección, se escribirán los códigos a copilar del taller. Para ello, se emplearán estrategias de programación comunes en la vectorización de código. Particularmente, VccCore ofrece el siguiente conjunto de clases útiles:\n",
        "\n",
        "\n",
        "<img src=\"https://github.com/OscarHuesos/Taller_W_HPCSE-aceleracion/blob/main/maskops.png?raw=true:, width=600\" alt=\"simd\" width=600>\n",
        "\n",
        "Figura 5. Principales operaciones de abstracción en VecCore sobre vectores (figura tomada de [2]).\n",
        "\n"
      ]
    },
    {
      "cell_type": "markdown",
      "source": [
        "Se usará el tipo de archivo .cpp para codficar en C++, con una función main en cada ejemplo, así como los Backends tanto de Vc como escalares para ejemplificar los códigos presentados.\n"
      ],
      "metadata": {
        "id": "nqvDYuKbFCKu"
      }
    },
    {
      "cell_type": "markdown",
      "source": [
        "#Ejemplo 1\n",
        "\n",
        "Sobreescribir la misma función tanto para un proceso escalar como uno vectorizado usando Vc de Backend (override):\n",
        "\n",
        "Calcularemos la función ejemplo acumulada:\n",
        "\n",
        "\\begin{equation}\n",
        " \\sum_{n=0}^{N} f \\rightarrow\n",
        "f(u_{1}, u_{2}, w) = cos(u_{1})+e^{w}+\\sqrt{u_{2}}\n",
        "\\end{equation}"
      ],
      "metadata": {
        "id": "fqPCzLm1BbK1"
      }
    },
    {
      "cell_type": "code",
      "execution_count": null,
      "metadata": {
        "colab": {
          "base_uri": "https://localhost:8080/"
        },
        "id": "4NQbX6YYauha",
        "outputId": "ef8a7c78-2edd-4b23-d4d2-e3b0cb342804"
      },
      "outputs": [
        {
          "output_type": "stream",
          "name": "stdout",
          "text": [
            "Writing example_uno.cpp\n"
          ]
        }
      ],
      "source": [
        "%%writefile example_uno.cpp\n",
        "#include <cstdio>\n",
        "#include <cstdlib>\n",
        "#include <string>\n",
        "#include <chrono>\n",
        "#include <cstddef>\n",
        "#include <cstdint>\n",
        "#include <math.h>\n",
        "#include <VecCore/VecCore>\n",
        "#include <Vc/Vc>\n",
        "#include \"VecCore/Backend/VcVector.h\"\n",
        "\n",
        "using namespace vecCore;\n",
        "\n",
        "\n",
        "template<typename T>\n",
        "T Counter(){\n",
        "T w=0.002;\n",
        "T u1= 0.9;\n",
        "T u2= 12;\n",
        "return math::Cos(u1)+math::Exp(w)+math::Sqrt(u2);\n",
        "}\n",
        "\n",
        "\n",
        "template<typename T>\n",
        "void Acumulator(int n){\n",
        "\n",
        "size_t size =  VectorSize<T>();\n",
        "printf(\"Tamano del vector size %d \\n\", size);\n",
        "T counter;\n",
        "float count=0;\n",
        "float s;\n",
        "\n",
        "\n",
        "for(int i=0; i< n/size; ++i){\n",
        "\n",
        "counter = Counter<T>();\n",
        "for (int j=0; j< size ; ++j) {\n",
        "s = Get(counter,j );\n",
        "count = count + s;\n",
        "}\n",
        "\n",
        "}\n",
        "\n",
        "printf(\"Acumulador %f \\n\", count);\n",
        "return;\n",
        "}\n",
        "\n",
        "\n",
        "int main(){\n",
        "\n",
        "printf(\"Primer ejemplo \\n\");\n",
        "\n",
        "using VectorBackend = backend::VcVector;\n",
        "using ScalarBackend = backend::Scalar;\n",
        "\n",
        "int N=100;\n",
        "\n",
        "auto startscalar = std::chrono::system_clock::now();\n",
        "Acumulator<backend::Scalar::Float_v>(N);\n",
        "auto endscalar = std::chrono::system_clock::now();\n",
        "\n",
        "std::chrono::duration<float,std::milli> durationscalar = endscalar - startscalar;\n",
        "std::cout << durationscalar.count() << \" ms\" << std::endl;\n",
        "\n",
        "auto startvector = std::chrono::system_clock::now();\n",
        "Acumulator<backend::VcVector::Float_v>(N);\n",
        "auto endvector = std::chrono::system_clock::now();\n",
        "\n",
        "std::chrono::duration<float,std::milli> durationvector = endvector - startvector;\n",
        "std::cout << durationvector.count() << \" ms\" << std::endl;\n",
        "\n",
        "return 0;\n",
        "}"
      ]
    },
    {
      "cell_type": "markdown",
      "source": [
        "En este ejemplo se muestra el uso de los templates: template<typename T>, como estrategia para especificar el proceso escalar o vectorizado, así como el uso de la función Get de VecCore."
      ],
      "metadata": {
        "id": "yowPgxrgYkkW"
      }
    },
    {
      "cell_type": "markdown",
      "source": [
        "#Ejemplo 2\n",
        "\n",
        "Generación de la distribución Normal mendiante la transformación de Box-Muller:\n",
        "\n",
        "\\begin{equation}\n",
        "x = \\mu + \\sigma \\sqrt{-2ln(u_{1})}  cos(2 \\pi u_{2}) \\rightarrow x \\sim N ( \\mu , \\sigma )  → u_{1}, u_{2} \\sim U (0,1)\n",
        "\\end{equation}\n",
        "\n"
      ],
      "metadata": {
        "id": "EfX6WdWEo5jV"
      }
    },
    {
      "cell_type": "code",
      "execution_count": null,
      "metadata": {
        "colab": {
          "base_uri": "https://localhost:8080/"
        },
        "id": "0hwXtNw10ym7",
        "outputId": "dbe52c3a-cf39-456e-9c26-8e1906158e14"
      },
      "outputs": [
        {
          "output_type": "stream",
          "name": "stdout",
          "text": [
            "Writing example_dos.cpp\n"
          ]
        }
      ],
      "source": [
        "%%writefile example_dos.cpp\n",
        "#include <cstdio>\n",
        "#include <cstdlib>\n",
        "#include <string>\n",
        "#include <bits/stdc++.h>\n",
        "#include <random>\n",
        "#include <algorithm>\n",
        "\n",
        "#include <VecCore/VecCore>\n",
        "#include <Vc/Vc>\n",
        "#include <VecCore/Types.h>\n",
        "#include \"VecCore/Backend/VcVector.h\"\n",
        "#include <math.h>\n",
        "#include <chrono>\n",
        "\n",
        "using namespace vecCore;\n",
        "\n",
        "\n",
        "void histograma (float *arr, int nsamples, float low, float high, int bins){\n",
        "int data[bins];\n",
        "int histo[bins];\n",
        "float paso = (high-low)/bins;\n",
        "\n",
        "printf(\"paso %f \\n\", paso);\n",
        "\n",
        "float r_inf;\n",
        "float r_sup;\n",
        "int cont=0;\n",
        "float conv_factor = 0.01*nsamples;\n",
        "\n",
        "\n",
        "for (int i=0; i< bins; ++i) {\n",
        "\n",
        "r_inf = low+paso*i;\n",
        "r_sup = low+paso*(i+1);\n",
        "\n",
        "//printf(\"val inf %f \\n\", r_inf);\n",
        "//printf(\"val sup %f \\n\", r_sup);\n",
        "\n",
        "for (int j=0; j< nsamples; ++j) {\n",
        "if(   (arr[j] > r_inf )  && (arr[j]  < r_sup )      ){\n",
        "cont=cont+1;\n",
        "}\n",
        "\n",
        "}\n",
        "data[i]=cont;\n",
        "cont=0;\n",
        "}\n",
        "\n",
        "for (int k=0; k< bins; ++k) {\n",
        "printf(\"bins %d \\n\", data[k]);\n",
        "}\n",
        "\n",
        "\n",
        "for (int kk=0; kk< bins; ++kk) {\n",
        "histo[kk] = data[kk]/conv_factor;\n",
        "\n",
        "r_inf = low+paso*kk;\n",
        "r_sup = low+paso*(kk+1);\n",
        "\n",
        "\n",
        "printf(\"Intervalo (%f a %f ) \", r_inf, r_sup );\n",
        "\n",
        " for (int jj=0; jj < histo[kk]; jj++) {\n",
        "  printf(\"*\");\n",
        "   }\n",
        "printf(\" \\n\");\n",
        "}\n",
        "\n",
        "return;\n",
        "}\n",
        "\n",
        "\n",
        "\n",
        "template <typename T>\n",
        "T Gauss_distribution(T u1,T u2, T mean, T sigma, T pi){\n",
        "T Norm=  math::Sqrt(- (math::Log(u1) + math::Log(u1)) );\n",
        "return mean+sigma*(math::Cos(pi*(u2+u2))*Norm);\n",
        "}\n",
        "\n",
        "\n",
        "template <typename T>\n",
        "void VectorGauss(int nsamples, float *array ){\n",
        "\n",
        "size_t size =  VectorSize<T>();\n",
        "printf(\"Tamano del vector size %d \\n\", size);\n",
        "\n",
        "T res=0;\n",
        "std::default_random_engine generator;\n",
        "std::uniform_real_distribution<float> distribution(0.0,1.0);\n",
        "T m= 0.0;\n",
        "T p=3.1416;\n",
        "T desv=1.0;\n",
        "T numberu1;\n",
        "T numberu2;\n",
        "\n",
        "for (int i=0; i<nsamples/size ; ++i) {\n",
        "numberu1 = distribution(generator);\n",
        "numberu2 = distribution(generator);\n",
        "\n",
        "res=Gauss_distribution<T>(numberu1, numberu2, m, desv, p);\n",
        "\n",
        "for (int j=0; j< size ; ++j) {\n",
        "array[i*size+j] = res[j];\n",
        "}\n",
        "\n",
        "\n",
        "}\n",
        "\n",
        "\n",
        "return;\n",
        "}\n",
        "\n",
        "\n",
        "\n",
        "template <typename T>\n",
        "void ScalarGauss(int nsamples, float* array ){\n",
        "\n",
        "size_t size =  VectorSize<T>();\n",
        "printf(\"size %d \\n\", size);\n",
        "\n",
        "std::default_random_engine generator;\n",
        "std::uniform_real_distribution<T> distribution(0.0,1.0);\n",
        "T mean = 0.0;\n",
        "T p=3.1416;\n",
        "T desv=1.0;\n",
        "T r=0;\n",
        "T numberu1;\n",
        "T numberu2;\n",
        "\n",
        "for (int i=0; i<nsamples; ++i) {\n",
        "numberu1 = distribution(generator);\n",
        "numberu2 = distribution(generator);\n",
        "array[i] = Gauss_distribution<T>(numberu1, numberu2, mean, desv, p);\n",
        "}\n",
        "\n",
        "return;\n",
        "}\n",
        "\n",
        "\n",
        "int main(){\n",
        "\n",
        "\n",
        "int nsamples=1000000;\n",
        "printf(\"main dos \\n\");\n",
        "\n",
        "float array_scalar[nsamples];\n",
        "float array_vector[nsamples];\n",
        "\n",
        "using VectorBackend = backend::VcVector;\n",
        "using ScalarBackend = backend::Scalar;\n",
        "\n",
        "auto startscalar = std::chrono::system_clock::now();\n",
        "ScalarGauss<backend::Scalar::Float_v>(nsamples, array_scalar);\n",
        "auto endscalar = std::chrono::system_clock::now();\n",
        "\n",
        "std::chrono::duration<float,std::milli> durationscalar = endscalar - startscalar;\n",
        "std::cout << durationscalar.count() << \" ms\" << std::endl;\n",
        "\n",
        "auto startvector = std::chrono::system_clock::now();\n",
        "VectorGauss<backend::VcVector::Float_v>(nsamples, array_vector);\n",
        "auto endvector = std::chrono::system_clock::now();\n",
        "\n",
        "std::chrono::duration<float,std::milli> durationvector = endvector - startvector;\n",
        "std::cout << durationvector.count() << \" ms\" << std::endl;\n",
        "\n",
        "float bajo = -4;\n",
        "float alto = 4;\n",
        "int bins=14;\n",
        "\n",
        "std::cout << \"Histograma Distribucion Gaussiana Scalar\" << std::endl;\n",
        "histograma(array_scalar, nsamples,bajo, alto, bins );\n",
        "\n",
        "std::cout << \"Histograma Distribucion Gaussiana Vector\" << std::endl;\n",
        "histograma(array_vector, nsamples,bajo, alto, bins );\n",
        "\n",
        "\n",
        "return 0;\n",
        "}"
      ]
    },
    {
      "cell_type": "markdown",
      "source": [
        "Del ejemplo anterior, se toma la forma de sobreescribir la función que genera la distribución normal, pero se agregan dos arreglos con distribución uniforme y una función que genera un histograma sencillo. Al igual que el anterior caso, se usa la estrategia de división del vector base. El resultado final es:"
      ],
      "metadata": {
        "id": "rBv1KZR48eGJ"
      }
    },
    {
      "cell_type": "markdown",
      "source": [
        "<img src=\"https://github.com/OscarHuesos/Taller_W_HPCSE-aceleracion/blob/main/%20Normalvec.jpg?raw=true:, width=600\" alt=\"norm\" width=600>\n",
        "\n",
        "Figura 6. Distribución Normal generada con 1,000,000 muestras usando una media de $\\mu = 0$ y una desviación estándar de $\\sigma = 1$ (generada en ROOT-CERN)."
      ],
      "metadata": {
        "id": "_3C_GGXimu-j"
      }
    },
    {
      "cell_type": "markdown",
      "source": [
        "#Ejemplo 3\n",
        "\n",
        "Cambio de dos vectores de coordenadas cartesianas $(x,y)$ a polares $( \\rho , \\theta ) $, generados con una distribución uniforme :\n",
        "\n",
        "\\begin{equation}\n",
        "\\rho = \\sqrt{x^{2}+y^{2}} \\qquad , \\qquad \\theta = atan \\left( \\frac{y}{x} \\right)   \\qquad , \\qquad   x,y \\sim U (0,1)\n",
        "\\end{equation}"
      ],
      "metadata": {
        "id": "gGwkj4Z3mZ0I"
      }
    },
    {
      "cell_type": "code",
      "execution_count": null,
      "metadata": {
        "colab": {
          "base_uri": "https://localhost:8080/"
        },
        "id": "Nd0OoFsVs6LI",
        "outputId": "54f24a9f-54c0-41ee-dc86-7e749c1c5552"
      },
      "outputs": [
        {
          "output_type": "stream",
          "name": "stdout",
          "text": [
            "Writing example_tres.cpp\n"
          ]
        }
      ],
      "source": [
        "%%writefile example_tres.cpp\n",
        "#include <cstdio>\n",
        "#include <cstdlib>\n",
        "#include <string>\n",
        "#include <chrono>\n",
        "#include <random>\n",
        "#include <math.h>\n",
        "\n",
        "#include <VecCore/Types.h>\n",
        "#include <Vc/Vc>\n",
        "#include <VecCore/VecCore>\n",
        "#include \"VecCore/Backend/VcVector.h\"\n",
        "\n",
        "\n",
        "using namespace vecCore;\n",
        "\n",
        "template <typename T>\n",
        "T Rho (T x , T y ){\n",
        "return math::Sqrt(x*x+y*y);\n",
        "}\n",
        "\n",
        "template <typename T>\n",
        "T Theta (T x , T y ){\n",
        "return math::ATan(y/x);\n",
        "}\n",
        "\n",
        "\n",
        "template <typename T>\n",
        "void VectorCartesian (T* Xv , T* Yv , float* R,  float* The,  size_t n){\n",
        "size_t size =  VectorSize<T>();\n",
        "printf(\"Tamano del vector size %d \\n\", size);\n",
        "T r;\n",
        "T ang;\n",
        "\n",
        "for (int i=0; i< n ; ++i) {\n",
        "\n",
        "r   =  Rho<T> (Xv[i] , Yv[i] );\n",
        "ang =  Theta<T>(Xv[i] , Yv[i] );\n",
        "\n",
        "for (int j=0; j< size ; ++j) {\n",
        "R[i*size+j] = r[j];\n",
        "The[i*size+j] = ang[j];\n",
        "}\n",
        "\n",
        "}\n",
        "\n",
        "return;\n",
        "}\n",
        "\n",
        "\n",
        "template <typename T>\n",
        "void ScalarCartesian (float* X , float* Y , float* R,  float* The,  int n){\n",
        "\n",
        "size_t size =  VectorSize<T>();\n",
        "printf(\"Tamano del vector size %d \\n\", size);\n",
        "T r;\n",
        "T ang;\n",
        "\n",
        "\n",
        "for (int i=0; i< n ; ++i) {\n",
        "r   =  Rho<T> (X[i] , Y[i] );\n",
        "ang =  Theta<T>(X[i] , Y[i] );\n",
        "R[i]=r;\n",
        "The[i]=ang;\n",
        "}\n",
        "return;\n",
        "}\n",
        "\n",
        "int main(){\n",
        "\n",
        "printf(\"Ejemplo tres \\n\");\n",
        "\n",
        "int N=100000;\n",
        "float array_scalar_R[N];\n",
        "float array_vector_R[N];\n",
        "\n",
        "float array_scalar_T[N];\n",
        "float array_vector_T[N];\n",
        "\n",
        "float X_scalar[N];\n",
        "float Y_scalar[N];\n",
        "\n",
        "using VectorBackend = backend::VcVector;\n",
        "using ScalarBackend = backend::Scalar;\n",
        "\n",
        "using Float_v = typename backend::VcVector::Float_v;\n",
        "\n",
        "size_t size =  VectorSize<backend::VcVector::Float_v>();\n",
        "size_t sizeV=  N/size;\n",
        "\n",
        "Float_v X_vector[sizeV];\n",
        "Float_v Y_vector[sizeV];\n",
        "\n",
        "std::default_random_engine generator;\n",
        "std::uniform_real_distribution<float> distribution(0.0,1.0);\n",
        "\n",
        "for (int i=0; i< N; ++i) {\n",
        "X_scalar[i] = distribution(generator);\n",
        "Y_scalar[i] = distribution(generator);\n",
        "}\n",
        "\n",
        "\n",
        "for (int j=0; j < sizeV; ++j) {\n",
        "for(int k=0; k < size; ++k){\n",
        "Set( X_vector[j] , k ,   X_scalar[j*size+k]  );\n",
        "Set( Y_vector[j] , k ,   Y_scalar[j*size+k]  );\n",
        "}\n",
        "}\n",
        "\n",
        "auto startscalar = std::chrono::system_clock::now();\n",
        "ScalarCartesian<backend::Scalar::Float_v>( X_scalar, Y_scalar, array_scalar_R, array_scalar_T,  N);\n",
        "auto endscalar = std::chrono::system_clock::now();\n",
        "\n",
        "std::chrono::duration<float,std::milli> durationscalar = endscalar - startscalar;\n",
        "std::cout << durationscalar.count() << \" ms\" << std::endl;\n",
        "\n",
        "auto startvector = std::chrono::system_clock::now();\n",
        "VectorCartesian<backend::VcVector::Float_v>( X_vector , Y_vector , array_vector_R, array_vector_T, sizeV );\n",
        "auto endvector = std::chrono::system_clock::now();\n",
        "\n",
        "std::chrono::duration<float,std::milli> durationvector = endvector - startvector;\n",
        "std::cout << durationvector.count() << \" ms\" << std::endl;\n",
        "\n",
        "\n",
        "float r_scalar=0;\n",
        "float t_scalar=0;\n",
        "\n",
        "float r_vector=0;\n",
        "float t_vector=0;\n",
        "\n",
        "for (int l=0; l< N; ++l) {\n",
        "r_scalar = r_scalar + array_scalar_R[l];\n",
        "t_scalar = t_scalar + array_scalar_T[l];\n",
        "\n",
        "r_vector = r_vector + array_vector_R[l];\n",
        "t_vector = t_vector + array_vector_T[l];\n",
        "\n",
        "}\n",
        "\n",
        "printf(\"rho scalar %f theta scalar %f \\n\" , r_scalar, t_scalar );\n",
        "\n",
        "printf(\"rho vector %f theta vector %f \\n\", r_vector, t_vector );\n",
        "\n",
        "return 0;\n",
        "}"
      ]
    },
    {
      "cell_type": "markdown",
      "source": [
        "En este ejemplo se ilustra una forma clásica de operar en SIMD un vector unidimensional bajo un mismo conjunto de instrucciones, así como la declaración de vector tipo Float_v y la instrucción Set de VecCore."
      ],
      "metadata": {
        "id": "ez5ZZ1VKdmAw"
      }
    },
    {
      "cell_type": "markdown",
      "source": [
        "#Ejemplo 4\n",
        "\n",
        "Se ilustra un caso particularmente vectorizable de la sumatoria $S$ de una función exponencial definida como:\n",
        "\n",
        "\n",
        "\\begin{equation}\n",
        "S(x) = \\sum_{n=0,k,2k,...}^{N} \\sum_{i=0}^{k} \\sum_{j=0}^{n} e^{-j x} → x \\sim U(0,1)\n",
        "\\end{equation}\n",
        "\n",
        "siendo $k$ el tamaño del vector definido por nuestro conjunto de instrucciones.\n"
      ],
      "metadata": {
        "id": "8_6YfZ2L43dD"
      }
    },
    {
      "cell_type": "code",
      "source": [
        "%%writefile example_cuatro.cpp\n",
        "#include <cstdio>\n",
        "#include <cstdlib>\n",
        "#include <string>\n",
        "#include <random>\n",
        "#include <cfloat>\n",
        "\n",
        "#include <VecCore/VecCore>\n",
        "#include <Vc/Vc>\n",
        "#include <VecCore/Types.h>\n",
        "#include \"VecCore/Backend/VcVector.h\"\n",
        "#include <math.h>\n",
        "#include <chrono>\n",
        "\n",
        "\n",
        "using namespace vecCore;\n",
        "using VectorBackend = backend::VcVector;\n",
        "using ScalarBackend = backend::Scalar;\n",
        "\n",
        "using Double_v = typename backend::VcVector::Double_v;\n",
        "\n",
        "template <typename T>\n",
        "T acum_function_scalar (T x , int n ){\n",
        "\n",
        "T ac= T(0);\n",
        "\n",
        "if(  ( x > 0)  &&  (x < 1)  ) {\n",
        "for(int i=0 ; i<n ; ++i){\n",
        "ac= ac +  math::Exp(-i*x);\n",
        "}\n",
        "}\n",
        "return ac;\n",
        "}\n",
        "\n",
        "template <typename T>\n",
        "T acum_function_vector (T x , int n ){\n",
        "\n",
        "T ac= T(0);\n",
        "Mask<T> gtOne (x > 0);\n",
        "Mask<T> gtTwo (x < 1);\n",
        "if(  MaskFull(gtOne) &&  MaskFull(gtTwo)    ) {\n",
        "\n",
        "for(int i=0 ; i <n ; ++i){\n",
        "ac= ac +  math::Exp(-i*x);\n",
        "}\n",
        "}\n",
        "return ac;\n",
        "}\n",
        "\n",
        "\n",
        "template <typename T>\n",
        "double VectorFun (T* vec, int N ){\n",
        "\n",
        "size_t size  =  VectorSize<backend::VcVector::Double_v>();\n",
        "size_t sizeV =  N/size;\n",
        "\n",
        "double res=0;\n",
        "T vcc = T(0);\n",
        "\n",
        "for (int i=0; i < sizeV; ++i) {\n",
        "\n",
        "vcc = acum_function_vector (vec[i], i);\n",
        "\n",
        "for (int j=0; j < size; ++j) {\n",
        "\n",
        "if(!std::isnan(vcc[j])){\n",
        "res= res + vcc[j];\n",
        "}else{\n",
        "\n",
        "}\n",
        "\n",
        "}\n",
        "}\n",
        "\n",
        "return res;\n",
        "\n",
        "}\n",
        "\n",
        "\n",
        "\n",
        "template <typename T>\n",
        "double ScalarFun (T* vc, int N ){\n",
        "\n",
        "size_t size =  VectorSize<backend::VcVector::Double_v>();\n",
        "size_t sizeV=  N/size;\n",
        "\n",
        "double res=0;\n",
        "double r;\n",
        "\n",
        "for (int i=0; i < sizeV; ++i) {\n",
        "for(int k=0; k < size; ++k){\n",
        "r= acum_function_scalar( vc[i*size+k] ,i);\n",
        "if(!std::isnan(r)  ){\n",
        "res= res + r;\n",
        "}else{\n",
        "\n",
        "}\n",
        "\n",
        "}\n",
        "}\n",
        "\n",
        "return res;\n",
        "\n",
        "}\n",
        "\n",
        "\n",
        "int main(){\n",
        "\n",
        "int N= 40000 ;\n",
        "printf(\"Ejemplo cuatro \\n\");\n",
        "\n",
        "size_t size =  VectorSize<backend::VcVector::Double_v>();\n",
        "size_t sizeV=  N/size;\n",
        "\n",
        "double array_scalar[N];\n",
        "double array_vector[N];\n",
        "\n",
        "double r_scalar;\n",
        "double r_vector;\n",
        "\n",
        "double ran_scalar[N];\n",
        "Double_v ran_vector[sizeV];\n",
        "\n",
        "std::default_random_engine generator;\n",
        "std::uniform_real_distribution<double> distribution(0.0,1.0);\n",
        "\n",
        "double r;\n",
        "\n",
        "for (int j=0; j < sizeV; ++j) {\n",
        "for(int k=0; k < size; ++k){\n",
        "r = distribution(generator);\n",
        "Set( ran_vector[j] , k ,   r );\n",
        "ran_scalar[j*size+k] = r;\n",
        "}\n",
        "}\n",
        "\n",
        "auto startscalar = std::chrono::system_clock::now();\n",
        "r_scalar = ScalarFun<backend::Scalar::Double_v>(ran_scalar, N );\n",
        "auto endscalar = std::chrono::system_clock::now();\n",
        "\n",
        "std::chrono::duration< float,std::milli> durationscalar = endscalar - startscalar;\n",
        "std::cout << \"Tiempo Scalar \" << durationscalar.count() << \" ms\" << std::endl;\n",
        "std::cout << \"Suma Scalar  sum: \" << r_scalar << std::endl;\n",
        "\n",
        "auto startvector = std::chrono::system_clock::now();\n",
        "r_vector = VectorFun<Double_v>( ran_vector,  N);\n",
        "auto endvector = std::chrono::system_clock::now();\n",
        "\n",
        "std::chrono::duration<float,std::milli> durationvector = endvector - startvector;\n",
        "std::cout << \"Tiempo Vector \" << durationvector.count() << \" ms\" << std::endl;\n",
        "std::cout << \"Suma Vector sum: \" << r_vector << std::endl;\n",
        "\n",
        "\n",
        "return 0;\n",
        "}"
      ],
      "metadata": {
        "id": "L4bOZxWttbm2",
        "colab": {
          "base_uri": "https://localhost:8080/"
        },
        "outputId": "80960f4d-17d1-43f3-b4c6-ef83579fa373"
      },
      "execution_count": null,
      "outputs": [
        {
          "output_type": "stream",
          "name": "stdout",
          "text": [
            "Writing example_cuatro.cpp\n"
          ]
        }
      ]
    },
    {
      "cell_type": "markdown",
      "source": [
        "Este ejemplo pretende reforzar la forma de manejar los datos en arreglos, ya sea dimensionales o unidemsionales, usando la estrategia SIMD. Al igual que en los anteriores ejemplos, en el entorno Colab se presenta en mayor medida el problema de retraso de datos y ejecución de las operaciones."
      ],
      "metadata": {
        "id": "t_L7iFuvg18i"
      }
    },
    {
      "cell_type": "markdown",
      "source": [
        "**Tercera parte: Copilación y ejecución de los ejemplos**\n",
        "\n",
        "Vamos a copiar archivos importantes para la copilación desde nuestro Git:"
      ],
      "metadata": {
        "id": "U--e5ixQJGww"
      }
    },
    {
      "cell_type": "code",
      "source": [
        "!git clone https://github.com/ChJazhiel/High_Performance_Computing_Workshop.git"
      ],
      "metadata": {
        "colab": {
          "base_uri": "https://localhost:8080/"
        },
        "id": "y9QtT3pqCZca",
        "outputId": "82fb6267-2c27-4709-a8ec-fcfa77500e19"
      },
      "execution_count": null,
      "outputs": [
        {
          "output_type": "stream",
          "name": "stdout",
          "text": [
            "Cloning into 'High_Performance_Computing_Workshop'...\n",
            "remote: Enumerating objects: 95, done.\u001b[K\n",
            "remote: Counting objects: 100% (16/16), done.\u001b[K\n",
            "remote: Compressing objects: 100% (16/16), done.\u001b[K\n",
            "remote: Total 95 (delta 3), reused 0 (delta 0), pack-reused 79\u001b[K\n",
            "Unpacking objects: 100% (95/95), done.\n"
          ]
        }
      ]
    },
    {
      "cell_type": "markdown",
      "source": [
        "Se copian archivos del Cmake a la carpeta raíz, en donde se ejecutará la copilación:"
      ],
      "metadata": {
        "id": "nETXl4V7MeAd"
      }
    },
    {
      "cell_type": "code",
      "source": [
        "%%bash\n",
        "cp /content/High_Performance_Computing_Workshop/Aceleracion_de_procesos_en_CPU/MacroUtilities.cmake /content/\n",
        "cp /content/High_Performance_Computing_Workshop/Aceleracion_de_procesos_en_CPU/CMakeLists.txt /content/"
      ],
      "metadata": {
        "id": "SXdEaDCjH4Qt"
      },
      "execution_count": null,
      "outputs": []
    },
    {
      "cell_type": "markdown",
      "source": [
        "Copilamos el proyecto que contiene los ejemplos que se programaron con anterioridad usando Cmake:"
      ],
      "metadata": {
        "id": "bsR0oyE7K_P1"
      }
    },
    {
      "cell_type": "code",
      "execution_count": null,
      "metadata": {
        "colab": {
          "base_uri": "https://localhost:8080/"
        },
        "id": "TynLezwfZu13",
        "outputId": "3e58a33f-d23b-4a0d-bfe5-7fa9032b6175"
      },
      "outputs": [
        {
          "output_type": "stream",
          "name": "stdout",
          "text": [
            "-- The C compiler identification is GNU 7.5.0\n",
            "-- The CXX compiler identification is GNU 7.5.0\n",
            "-- Detecting C compiler ABI info\n",
            "-- Detecting C compiler ABI info - done\n",
            "-- Check for working C compiler: /usr/bin/cc - skipped\n",
            "-- Detecting C compile features\n",
            "-- Detecting C compile features - done\n",
            "-- Detecting CXX compiler ABI info\n",
            "-- Detecting CXX compiler ABI info - done\n",
            "-- Check for working CXX compiler: /usr/bin/c++ - skipped\n",
            "-- Detecting CXX compile features\n",
            "-- Detecting CXX compile features - done\n",
            "-- Configuring with Vc backend\n",
            "-- Detected Compiler: GCC 7\n",
            "-- Performing Test check_cxx_compiler_flag__Wabi\n",
            "-- Performing Test check_cxx_compiler_flag__Wabi - Success\n",
            "-- Performing Test check_cxx_compiler_flag__fabi_version_0\n",
            "-- Performing Test check_cxx_compiler_flag__fabi_version_0 - Success\n",
            "-- Performing Test check_cxx_compiler_flag__fabi_compat_version_0\n",
            "-- Performing Test check_cxx_compiler_flag__fabi_compat_version_0 - Success\n",
            "-- Performing Test check_cxx_compiler_flag__ffp_contract_fast\n",
            "-- Performing Test check_cxx_compiler_flag__ffp_contract_fast - Success\n",
            "-- target changed from \"\" to \"auto\"\n",
            "-- Detected CPU: broadwell\n",
            "-- Performing Test check_cxx_compiler_flag__march_broadwell\n",
            "-- Performing Test check_cxx_compiler_flag__march_broadwell - Success\n",
            "-- Performing Test check_cxx_compiler_flag__msse2\n",
            "-- Performing Test check_cxx_compiler_flag__msse2 - Success\n",
            "-- Performing Test check_cxx_compiler_flag__msse3\n",
            "-- Performing Test check_cxx_compiler_flag__msse3 - Success\n",
            "-- Looking for C++ include pmmintrin.h\n",
            "-- Looking for C++ include pmmintrin.h - found\n",
            "-- Performing Test check_cxx_compiler_flag__mssse3\n",
            "-- Performing Test check_cxx_compiler_flag__mssse3 - Success\n",
            "-- Looking for C++ include tmmintrin.h\n",
            "-- Looking for C++ include tmmintrin.h - found\n",
            "-- Performing Test check_cxx_compiler_flag__msse4_1\n",
            "-- Performing Test check_cxx_compiler_flag__msse4_1 - Success\n",
            "-- Looking for C++ include smmintrin.h\n",
            "-- Looking for C++ include smmintrin.h - found\n",
            "-- Performing Test check_cxx_compiler_flag__msse4_2\n",
            "-- Performing Test check_cxx_compiler_flag__msse4_2 - Success\n",
            "-- Performing Test check_cxx_compiler_flag__mavx\n",
            "-- Performing Test check_cxx_compiler_flag__mavx - Success\n",
            "-- Looking for C++ include immintrin.h\n",
            "-- Looking for C++ include immintrin.h - found\n",
            "-- Performing Test check_cxx_compiler_flag__mfma\n",
            "-- Performing Test check_cxx_compiler_flag__mfma - Success\n",
            "-- Performing Test check_cxx_compiler_flag__mbmi2\n",
            "-- Performing Test check_cxx_compiler_flag__mbmi2 - Success\n",
            "-- Performing Test check_cxx_compiler_flag__mavx2\n",
            "-- Performing Test check_cxx_compiler_flag__mavx2 - Success\n",
            "-- Performing Test check_cxx_compiler_flag__mno_sse4a\n",
            "-- Performing Test check_cxx_compiler_flag__mno_sse4a - Success\n",
            "-- Performing Test check_cxx_compiler_flag__mno_xop\n",
            "-- Performing Test check_cxx_compiler_flag__mno_xop - Success\n",
            "-- Performing Test check_cxx_compiler_flag__mno_fma4\n",
            "-- Performing Test check_cxx_compiler_flag__mno_fma4 - Success\n",
            "-- Performing Test check_cxx_compiler_flag__mno_avx512f\n",
            "-- Performing Test check_cxx_compiler_flag__mno_avx512f - Success\n",
            "-- Performing Test check_cxx_compiler_flag__mno_avx512vl\n",
            "-- Performing Test check_cxx_compiler_flag__mno_avx512vl - Success\n",
            "-- Performing Test check_cxx_compiler_flag__mno_avx512pf\n",
            "-- Performing Test check_cxx_compiler_flag__mno_avx512pf - Success\n",
            "-- Performing Test check_cxx_compiler_flag__mno_avx512er\n",
            "-- Performing Test check_cxx_compiler_flag__mno_avx512er - Success\n",
            "-- Performing Test check_cxx_compiler_flag__mno_avx512cd\n",
            "-- Performing Test check_cxx_compiler_flag__mno_avx512cd - Success\n",
            "-- Performing Test check_cxx_compiler_flag__mno_avx512dq\n",
            "-- Performing Test check_cxx_compiler_flag__mno_avx512dq - Success\n",
            "-- Performing Test check_cxx_compiler_flag__mno_avx512bw\n",
            "-- Performing Test check_cxx_compiler_flag__mno_avx512bw - Success\n",
            "-- Performing Test check_cxx_compiler_flag__mno_avx512ifma\n",
            "-- Performing Test check_cxx_compiler_flag__mno_avx512ifma - Success\n",
            "-- Performing Test check_cxx_compiler_flag__mno_avx512vbmi\n",
            "-- Performing Test check_cxx_compiler_flag__mno_avx512vbmi - Success\n",
            "-- Found Vc: /content/Vc/install/lib/libVc.a  \n",
            "-- Configuring done\n",
            "-- Generating done\n",
            "-- Build files have been written to: /content\n"
          ]
        },
        {
          "output_type": "stream",
          "name": "stderr",
          "text": [
            "CMake Deprecation Warning at Vc/install/lib/cmake/Vc/VcMacros.cmake:35 (cmake_minimum_required):\n",
            "  Compatibility with CMake < 2.8.12 will be removed from a future version of\n",
            "  CMake.\n",
            "\n",
            "  Update the VERSION argument <min> value or use a ...<max> suffix to tell\n",
            "  CMake that the project does not need compatibility with older versions.\n",
            "Call Stack (most recent call first):\n",
            "  Vc/install/lib/cmake/Vc/VcConfig.cmake:17 (include)\n",
            "  /usr/local/lib/python3.7/dist-packages/cmake/data/share/cmake-3.22/Modules/CMakeFindDependencyMacro.cmake:47 (find_package)\n",
            "  VecCore/install/lib/cmake/VecCore/VecCoreConfig.cmake:62 (find_dependency)\n",
            "  CMakeLists.txt:61 (find_package)\n",
            "\n",
            "\n",
            "CMake Warning:\n",
            "  Manually-specified variables were not used by the project:\n",
            "\n",
            "    VECCORE_ENABLE_VC\n",
            "\n",
            "\n"
          ]
        }
      ],
      "source": [
        "%%bash\n",
        "cmake -DBACKEND=Vc -DVecCore_DIR=/content/VecCore/install/lib/cmake/VecCore \\\n",
        "-DCMAKE_BUILD_TYPE=Release -DVECCORE_ENABLE_VC=ON -DCMAKE_PREFIX_PATH=/content/Vc/install ."
      ]
    },
    {
      "cell_type": "code",
      "execution_count": null,
      "metadata": {
        "id": "zL4nKI2E7iLc",
        "colab": {
          "base_uri": "https://localhost:8080/"
        },
        "outputId": "9353a9c4-a30b-449c-cc32-86e00aaeb422"
      },
      "outputs": [
        {
          "output_type": "stream",
          "name": "stdout",
          "text": [
            "[ 12%] Building CXX object CMakeFiles/returntypevec.dir/example_uno.cpp.o\n",
            "[ 25%] Linking CXX executable returntypevec\n",
            "[ 25%] Built target returntypevec\n",
            "[ 37%] Building CXX object CMakeFiles/vectorcomplement.dir/example_dos.cpp.o\n",
            "[ 50%] Linking CXX executable vectorcomplement\n",
            "[ 50%] Built target vectorcomplement\n",
            "[ 62%] Building CXX object CMakeFiles/vectorcartesian.dir/example_tres.cpp.o\n",
            "[ 75%] Linking CXX executable vectorcartesian\n",
            "[ 75%] Built target vectorcartesian\n",
            "[ 87%] Building CXX object CMakeFiles/vectorsum.dir/example_cuatro.cpp.o\n",
            "[100%] Linking CXX executable vectorsum\n",
            "[100%] Built target vectorsum\n"
          ]
        },
        {
          "output_type": "stream",
          "name": "stderr",
          "text": [
            "/content/example_uno.cpp: In instantiation of ‘void Acumulator(int) [with T = float]’:\n",
            "/content/example_uno.cpp:59:39:   required from here\n",
            "/content/example_uno.cpp:28:7: warning: format ‘%d’ expects argument of type ‘int’, but argument 2 has type ‘size_t {aka long unsigned int}’ [-Wformat=]\n",
            " printf(\"Tamano del vector size %d \\n\", size);\n",
            " ~~~~~~^~~~~~~~~~~~~~~~~~~~~~~~~~~~~~~~~~~~~~\n",
            "/content/example_uno.cpp: In instantiation of ‘void Acumulator(int) [with T = Vc_1::Vector<float, Vc_1::VectorAbi::Sse>]’:\n",
            "/content/example_uno.cpp:66:41:   required from here\n",
            "/content/example_uno.cpp:28:7: warning: format ‘%d’ expects argument of type ‘int’, but argument 2 has type ‘size_t {aka long unsigned int}’ [-Wformat=]\n",
            "/content/example_dos.cpp: In instantiation of ‘void ScalarGauss(int, float*) [with T = float]’:\n",
            "/content/example_dos.cpp:153:61:   required from here\n",
            "/content/example_dos.cpp:119:7: warning: format ‘%d’ expects argument of type ‘int’, but argument 2 has type ‘size_t {aka long unsigned int}’ [-Wformat=]\n",
            " printf(\"size %d \\n\", size);\n",
            " ~~~~~~^~~~~~~~~~~~~~~~~~~~\n",
            "/content/example_dos.cpp: In instantiation of ‘void VectorGauss(int, float*) [with T = Vc_1::Vector<float, Vc_1::VectorAbi::Sse>]’:\n",
            "/content/example_dos.cpp:160:63:   required from here\n",
            "/content/example_dos.cpp:85:7: warning: format ‘%d’ expects argument of type ‘int’, but argument 2 has type ‘size_t {aka long unsigned int}’ [-Wformat=]\n",
            " printf(\"Tamano del vector size %d \\n\", size);\n",
            " ~~~~~~^~~~~~~~~~~~~~~~~~~~~~~~~~~~~~~~~~~~~~\n",
            "/content/example_tres.cpp: In instantiation of ‘void ScalarCartesian(float*, float*, float*, float*, int) [with T = float]’:\n",
            "/content/example_tres.cpp:110:98:   required from here\n",
            "/content/example_tres.cpp:54:7: warning: format ‘%d’ expects argument of type ‘int’, but argument 2 has type ‘size_t {aka long unsigned int}’ [-Wformat=]\n",
            " printf(\"Tamano del vector size %d \\n\", size);\n",
            " ~~~~~~^~~~~~~~~~~~~~~~~~~~~~~~~~~~~~~~~~~~~~\n",
            "/content/example_tres.cpp: In instantiation of ‘void VectorCartesian(T*, T*, float*, float*, size_t) [with T = Vc_1::Vector<float, Vc_1::VectorAbi::Sse>; size_t = long unsigned int]’:\n",
            "/content/example_tres.cpp:117:106:   required from here\n",
            "/content/example_tres.cpp:30:7: warning: format ‘%d’ expects argument of type ‘int’, but argument 2 has type ‘size_t {aka long unsigned int}’ [-Wformat=]\n",
            " printf(\"Tamano del vector size %d \\n\", size);\n",
            " ~~~~~~^~~~~~~~~~~~~~~~~~~~~~~~~~~~~~~~~~~~~~\n"
          ]
        }
      ],
      "source": [
        "%%bash\n",
        "make"
      ]
    },
    {
      "cell_type": "markdown",
      "source": [
        "Una vez generados los ejecutables de cada ejemplo, vamos a correrlos usando el bash. El código escalar se refleja con un tamaño de vector igual a 1, mientras que el vectorizado con un tamaño de vector igual a 4. Las funciones de acumulación obtienen el mismo valor para cada tipo de ejecución, pero con tiempos de ejecución diferentes:"
      ],
      "metadata": {
        "id": "K9hwsnAbXxBP"
      }
    },
    {
      "cell_type": "code",
      "execution_count": null,
      "metadata": {
        "colab": {
          "base_uri": "https://localhost:8080/"
        },
        "id": "cOgSVsf8Fysd",
        "outputId": "d03d149c-2e5c-4050-df7c-920ce7dc58b0"
      },
      "outputs": [
        {
          "output_type": "stream",
          "name": "stdout",
          "text": [
            "Primer ejemplo \n",
            "Tamano del vector size 1 \n",
            "Acumulador 508.770935 \n",
            "0.010576 ms\n",
            "Tamano del vector size 4 \n",
            "Acumulador 508.770935 \n",
            "0.006956 ms\n"
          ]
        }
      ],
      "source": [
        "%%bash\n",
        " ./returntypevec\n"
      ]
    },
    {
      "cell_type": "code",
      "execution_count": null,
      "metadata": {
        "id": "ozN-tBWLrpzT",
        "colab": {
          "base_uri": "https://localhost:8080/"
        },
        "outputId": "4e525f30-b6a4-4874-b4a5-61e7e4791abb"
      },
      "outputs": [
        {
          "output_type": "stream",
          "name": "stdout",
          "text": [
            "main dos \n",
            "size 1 \n",
            "39.5643 ms\n",
            "Tamano del vector size 4 \n",
            "12.9421 ms\n",
            "Histograma Distribucion Gaussiana Scalar\n",
            "paso 0.571429 \n",
            "bins 273 \n",
            "bins 1861 \n",
            "bins 9027 \n",
            "bins 32101 \n",
            "bins 83578 \n",
            "bins 156956 \n",
            "bins 216419 \n",
            "bins 216337 \n",
            "bins 157208 \n",
            "bins 82892 \n",
            "bins 32286 \n",
            "bins 8964 \n",
            "bins 1798 \n",
            "bins 234 \n",
            "Intervalo (-4.000000 a -3.428571 )  \n",
            "Intervalo (-3.428571 a -2.857143 )  \n",
            "Intervalo (-2.857143 a -2.285714 )  \n",
            "Intervalo (-2.285714 a -1.714286 ) *** \n",
            "Intervalo (-1.714286 a -1.142857 ) ******** \n",
            "Intervalo (-1.142857 a -0.571428 ) *************** \n",
            "Intervalo (-0.571428 a 0.000000 ) ********************* \n",
            "Intervalo (0.000000 a 0.571429 ) ********************* \n",
            "Intervalo (0.571429 a 1.142858 ) *************** \n",
            "Intervalo (1.142858 a 1.714286 ) ******** \n",
            "Intervalo (1.714286 a 2.285715 ) *** \n",
            "Intervalo (2.285715 a 2.857143 )  \n",
            "Intervalo (2.857143 a 3.428572 )  \n",
            "Intervalo (3.428572 a 4.000000 )  \n",
            "Histograma Distribucion Gaussiana Vector\n",
            "paso 0.571429 \n",
            "bins 252 \n",
            "bins 1952 \n",
            "bins 9200 \n",
            "bins 31552 \n",
            "bins 84000 \n",
            "bins 156728 \n",
            "bins 215492 \n",
            "bins 217412 \n",
            "bins 156812 \n",
            "bins 83260 \n",
            "bins 32128 \n",
            "bins 9236 \n",
            "bins 1660 \n",
            "bins 228 \n",
            "Intervalo (-4.000000 a -3.428571 )  \n",
            "Intervalo (-3.428571 a -2.857143 )  \n",
            "Intervalo (-2.857143 a -2.285714 )  \n",
            "Intervalo (-2.285714 a -1.714286 ) *** \n",
            "Intervalo (-1.714286 a -1.142857 ) ******** \n",
            "Intervalo (-1.142857 a -0.571428 ) *************** \n",
            "Intervalo (-0.571428 a 0.000000 ) ********************* \n",
            "Intervalo (0.000000 a 0.571429 ) ********************* \n",
            "Intervalo (0.571429 a 1.142858 ) *************** \n",
            "Intervalo (1.142858 a 1.714286 ) ******** \n",
            "Intervalo (1.714286 a 2.285715 ) *** \n",
            "Intervalo (2.285715 a 2.857143 )  \n",
            "Intervalo (2.857143 a 3.428572 )  \n",
            "Intervalo (3.428572 a 4.000000 )  \n"
          ]
        }
      ],
      "source": [
        "%%bash\n",
        "./vectorcomplement"
      ]
    },
    {
      "cell_type": "code",
      "execution_count": null,
      "metadata": {
        "id": "U8GvezP5zcEB",
        "colab": {
          "base_uri": "https://localhost:8080/"
        },
        "outputId": "3c12f5d1-65de-4a55-f821-1b1b02e97661"
      },
      "outputs": [
        {
          "output_type": "stream",
          "name": "stdout",
          "text": [
            "Ejemplo tres \n",
            "Tamano del vector size 1 \n",
            "2.65278 ms\n",
            "Tamano del vector size 4 \n",
            "2.22906 ms\n",
            "rho scalar 76563.406250 theta scalar 78465.820312 \n",
            "rho vector 76563.406250 theta vector 78465.820312 \n"
          ]
        }
      ],
      "source": [
        "%%bash\n",
        "./vectorcartesian"
      ]
    },
    {
      "cell_type": "code",
      "source": [
        "%%bash\n",
        "./vectorsum"
      ],
      "metadata": {
        "id": "dJ-qTq95wVe4",
        "colab": {
          "base_uri": "https://localhost:8080/"
        },
        "outputId": "4c15fabe-ffe7-4147-ae76-17aa61a9b665"
      },
      "execution_count": null,
      "outputs": [
        {
          "output_type": "stream",
          "name": "stdout",
          "text": [
            "Ejemplo cuatro \n",
            "Tiempo Scalar 7015.93 ms\n",
            "Suma Scalar  sum: 428904\n",
            "Tiempo Vector 5488.46 ms\n",
            "Suma Vector sum: 428904\n"
          ]
        }
      ]
    },
    {
      "cell_type": "markdown",
      "source": [
        "# Muchas gracias por la atención!!\n",
        "\n",
        "Con esto concluimos este taller, que fue impartido por Oscar Roberto Chaparro Amaro. Quedamos al pendiente para cualquier duda que presenten, dejamos el siguiente correo:\n",
        "ochaparroa2019@cic.ipn.mx  , por si gustan de consultar mayor información.\n",
        "\n",
        "<img src=\"https://github.com/OscarHuesos/Taller_W_HPCSE-aceleracion/blob/main/cic.jpeg?raw=true:, width=150\" alt=\"simd\" width=150>\n",
        "\n",
        "\n",
        "**Notas finales:**\n",
        "\n",
        "Recordar que existen varios tipos de librerias/código que trabaja con vectorización SIMD entre otras estrategias de vectorización en Harware. Lo importante es recordar y \"adaptar\" nuestro código a la estructura más conveniente. Hay código que aún no es posible paralelizar al 100%.\n",
        "\n",
        "Recordar, que en este tipo de tecnologías, es necesario pensar en el Hardware disponible a la hora de códificar algoritmos.\n",
        "\n",
        "Una fuerte ventaja de vectorización en CPUs es la independencia de Hardware y Software externo especializado (incluyendo el sistema operativo en la mayoría de los casos), como en el caso de la vectorización usando GPUs.\n",
        "\n",
        "\n",
        "**(C/C++ es importante para este tipo de computación).**"
      ],
      "metadata": {
        "id": "A1zjYhS9FWqb"
      }
    },
    {
      "cell_type": "markdown",
      "source": [
        "#Bibliografía\n",
        "\n",
        "[1] Speeding up software with VecCore. G Amadio, P  Canal, D Piparo, S Wenzel. J. Physics: Conf. Ser. 1085 032034, (2018).\n",
        "https://iopscience.iop.org/article/10.1088/1742-6596/1085/3/032034/pdf\n",
        "\n",
        "[2] Vc: A C++ library for explicit vectorization. M Kretz, Volker L. J. Software: Practice and Experience. Vol. 42(11), p 1409-1430, (2012).\n",
        "https://onlinelibrary.wiley.com/doi/epdf/10.1002/spe.1149\n",
        "\n",
        "[3] Portable SIMD and the VecCore Library. G Amadio, P Canal, S Wenzel. Presentation at GeantV development team (2016).\n",
        "https://indico.cern.ch/event/570876/contributions/2347250/attachments/1359720/2057229/Portable-SIMD-and-the-VecCore-Library-2016-10-24.pdf\n",
        "\n",
        "Links adicionales:\n",
        "\n",
        "\n",
        "https://github.com/kokkos/kokkos/tree/master/algorithms/src\n",
        "\n",
        "https://github.com/root-project/veccore\n"
      ],
      "metadata": {
        "id": "l0gHT2pA9vgD"
      }
    }
  ],
  "metadata": {
    "colab": {
      "provenance": []
    },
    "kernelspec": {
      "display_name": "Python 3",
      "name": "python3"
    },
    "language_info": {
      "name": "python"
    }
  },
  "nbformat": 4,
  "nbformat_minor": 0
}